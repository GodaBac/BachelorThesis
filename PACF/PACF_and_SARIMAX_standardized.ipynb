{
  "nbformat": 4,
  "nbformat_minor": 0,
  "metadata": {
    "colab": {
      "provenance": [],
      "authorship_tag": "ABX9TyOxevRDSOpZJbBE2S6BBAoe",
      "include_colab_link": true
    },
    "kernelspec": {
      "name": "python3",
      "display_name": "Python 3"
    },
    "language_info": {
      "name": "python"
    }
  },
  "cells": [
    {
      "cell_type": "markdown",
      "metadata": {
        "id": "view-in-github",
        "colab_type": "text"
      },
      "source": [
        "<a href=\"https://colab.research.google.com/github/GodaBac/BachelorThesis/blob/main/PACF/PACF_and_SARIMAX_standardized.ipynb\" target=\"_parent\"><img src=\"https://colab.research.google.com/assets/colab-badge.svg\" alt=\"Open In Colab\"/></a>"
      ]
    },
    {
      "cell_type": "code",
      "execution_count": null,
      "metadata": {
        "id": "FMO5qonFrzVX"
      },
      "outputs": [],
      "source": [
        "import pandas as pd\n",
        "import numpy as np\n",
        "import statsmodels.api as sm\n",
        "import matplotlib.pyplot as plt"
      ]
    },
    {
      "cell_type": "code",
      "source": [
        "from google.colab import drive\n",
        "drive.mount('/content/drive')\n",
        "import csv\n",
        "from datetime import datetime\n",
        "\n",
        "input_file_path = '/content/drive/MyDrive/Bakalauras/duomenys.csv'\n",
        "\n",
        "# Open the input CSV file\n",
        "with open(input_file_path, 'r') as input_file:\n",
        "    reader = csv.reader(input_file)\n",
        "\n",
        "    value_names = next(reader)\n",
        "\n",
        "    # Create an empty list to store the updated rows\n",
        "    updated_rows = []\n",
        "\n",
        "    # Loop through each row in the input file\n",
        "    for row in reader:\n",
        "         # Try to parse the date string as a datetime object\n",
        "        try:\n",
        "            date_str = row[0]\n",
        "            date_obj = datetime.strptime(date_str, '%d-%m-%Y')\n",
        "        except ValueError:\n",
        "            # If the date string is not in the expected format, skip this row\n",
        "            continue\n",
        "\n",
        "        # Format the date object as a string in the new format\n",
        "        new_date_str = date_obj.strftime('%Y-%m-%d')\n",
        "\n",
        "        # Update the date value in the row\n",
        "        row[0] = new_date_str\n",
        "        # Append the updated row to the list of updated rows\n",
        "        updated_rows.append(row)\n",
        "\n",
        "# Convert the list of updated rows to a dataframe\n",
        "df = pd.DataFrame(updated_rows, columns=value_names)\n",
        "df['DT'] = pd.to_datetime(df['DT'])\n",
        "df['ANTAL_01'] = df['ANTAL_01'].astype(int)\n",
        "df = df.set_index('DT')\n",
        "df = df.iloc[::-1]"
      ],
      "metadata": {
        "colab": {
          "base_uri": "https://localhost:8080/"
        },
        "id": "qILtIHNUsB59",
        "outputId": "b21efd2a-95fd-43ac-a654-fdbbebdb365b"
      },
      "execution_count": null,
      "outputs": [
        {
          "output_type": "stream",
          "name": "stdout",
          "text": [
            "Mounted at /content/drive\n"
          ]
        }
      ]
    },
    {
      "cell_type": "code",
      "source": [
        "df"
      ],
      "metadata": {
        "colab": {
          "base_uri": "https://localhost:8080/",
          "height": 455
        },
        "id": "-MT31YBfzJ9j",
        "outputId": "47cb968d-e53e-4638-9b43-f988f76646aa"
      },
      "execution_count": null,
      "outputs": [
        {
          "output_type": "execute_result",
          "data": {
            "text/plain": [
              "            ANTAL_01\n",
              "DT                  \n",
              "2015-12-31     46084\n",
              "2016-01-04     46026\n",
              "2016-01-05     46108\n",
              "2016-01-06     45995\n",
              "2016-01-07     45954\n",
              "...              ...\n",
              "2022-12-15     30280\n",
              "2022-12-16     30213\n",
              "2022-12-19     30152\n",
              "2022-12-20     30121\n",
              "2022-12-21     30090\n",
              "\n",
              "[1818 rows x 1 columns]"
            ],
            "text/html": [
              "\n",
              "  <div id=\"df-18ac07b9-c1a8-4a6a-ad6b-b1461398fc6f\">\n",
              "    <div class=\"colab-df-container\">\n",
              "      <div>\n",
              "<style scoped>\n",
              "    .dataframe tbody tr th:only-of-type {\n",
              "        vertical-align: middle;\n",
              "    }\n",
              "\n",
              "    .dataframe tbody tr th {\n",
              "        vertical-align: top;\n",
              "    }\n",
              "\n",
              "    .dataframe thead th {\n",
              "        text-align: right;\n",
              "    }\n",
              "</style>\n",
              "<table border=\"1\" class=\"dataframe\">\n",
              "  <thead>\n",
              "    <tr style=\"text-align: right;\">\n",
              "      <th></th>\n",
              "      <th>ANTAL_01</th>\n",
              "    </tr>\n",
              "    <tr>\n",
              "      <th>DT</th>\n",
              "      <th></th>\n",
              "    </tr>\n",
              "  </thead>\n",
              "  <tbody>\n",
              "    <tr>\n",
              "      <th>2015-12-31</th>\n",
              "      <td>46084</td>\n",
              "    </tr>\n",
              "    <tr>\n",
              "      <th>2016-01-04</th>\n",
              "      <td>46026</td>\n",
              "    </tr>\n",
              "    <tr>\n",
              "      <th>2016-01-05</th>\n",
              "      <td>46108</td>\n",
              "    </tr>\n",
              "    <tr>\n",
              "      <th>2016-01-06</th>\n",
              "      <td>45995</td>\n",
              "    </tr>\n",
              "    <tr>\n",
              "      <th>2016-01-07</th>\n",
              "      <td>45954</td>\n",
              "    </tr>\n",
              "    <tr>\n",
              "      <th>...</th>\n",
              "      <td>...</td>\n",
              "    </tr>\n",
              "    <tr>\n",
              "      <th>2022-12-15</th>\n",
              "      <td>30280</td>\n",
              "    </tr>\n",
              "    <tr>\n",
              "      <th>2022-12-16</th>\n",
              "      <td>30213</td>\n",
              "    </tr>\n",
              "    <tr>\n",
              "      <th>2022-12-19</th>\n",
              "      <td>30152</td>\n",
              "    </tr>\n",
              "    <tr>\n",
              "      <th>2022-12-20</th>\n",
              "      <td>30121</td>\n",
              "    </tr>\n",
              "    <tr>\n",
              "      <th>2022-12-21</th>\n",
              "      <td>30090</td>\n",
              "    </tr>\n",
              "  </tbody>\n",
              "</table>\n",
              "<p>1818 rows × 1 columns</p>\n",
              "</div>\n",
              "      <button class=\"colab-df-convert\" onclick=\"convertToInteractive('df-18ac07b9-c1a8-4a6a-ad6b-b1461398fc6f')\"\n",
              "              title=\"Convert this dataframe to an interactive table.\"\n",
              "              style=\"display:none;\">\n",
              "        \n",
              "  <svg xmlns=\"http://www.w3.org/2000/svg\" height=\"24px\"viewBox=\"0 0 24 24\"\n",
              "       width=\"24px\">\n",
              "    <path d=\"M0 0h24v24H0V0z\" fill=\"none\"/>\n",
              "    <path d=\"M18.56 5.44l.94 2.06.94-2.06 2.06-.94-2.06-.94-.94-2.06-.94 2.06-2.06.94zm-11 1L8.5 8.5l.94-2.06 2.06-.94-2.06-.94L8.5 2.5l-.94 2.06-2.06.94zm10 10l.94 2.06.94-2.06 2.06-.94-2.06-.94-.94-2.06-.94 2.06-2.06.94z\"/><path d=\"M17.41 7.96l-1.37-1.37c-.4-.4-.92-.59-1.43-.59-.52 0-1.04.2-1.43.59L10.3 9.45l-7.72 7.72c-.78.78-.78 2.05 0 2.83L4 21.41c.39.39.9.59 1.41.59.51 0 1.02-.2 1.41-.59l7.78-7.78 2.81-2.81c.8-.78.8-2.07 0-2.86zM5.41 20L4 18.59l7.72-7.72 1.47 1.35L5.41 20z\"/>\n",
              "  </svg>\n",
              "      </button>\n",
              "      \n",
              "  <style>\n",
              "    .colab-df-container {\n",
              "      display:flex;\n",
              "      flex-wrap:wrap;\n",
              "      gap: 12px;\n",
              "    }\n",
              "\n",
              "    .colab-df-convert {\n",
              "      background-color: #E8F0FE;\n",
              "      border: none;\n",
              "      border-radius: 50%;\n",
              "      cursor: pointer;\n",
              "      display: none;\n",
              "      fill: #1967D2;\n",
              "      height: 32px;\n",
              "      padding: 0 0 0 0;\n",
              "      width: 32px;\n",
              "    }\n",
              "\n",
              "    .colab-df-convert:hover {\n",
              "      background-color: #E2EBFA;\n",
              "      box-shadow: 0px 1px 2px rgba(60, 64, 67, 0.3), 0px 1px 3px 1px rgba(60, 64, 67, 0.15);\n",
              "      fill: #174EA6;\n",
              "    }\n",
              "\n",
              "    [theme=dark] .colab-df-convert {\n",
              "      background-color: #3B4455;\n",
              "      fill: #D2E3FC;\n",
              "    }\n",
              "\n",
              "    [theme=dark] .colab-df-convert:hover {\n",
              "      background-color: #434B5C;\n",
              "      box-shadow: 0px 1px 3px 1px rgba(0, 0, 0, 0.15);\n",
              "      filter: drop-shadow(0px 1px 2px rgba(0, 0, 0, 0.3));\n",
              "      fill: #FFFFFF;\n",
              "    }\n",
              "  </style>\n",
              "\n",
              "      <script>\n",
              "        const buttonEl =\n",
              "          document.querySelector('#df-18ac07b9-c1a8-4a6a-ad6b-b1461398fc6f button.colab-df-convert');\n",
              "        buttonEl.style.display =\n",
              "          google.colab.kernel.accessAllowed ? 'block' : 'none';\n",
              "\n",
              "        async function convertToInteractive(key) {\n",
              "          const element = document.querySelector('#df-18ac07b9-c1a8-4a6a-ad6b-b1461398fc6f');\n",
              "          const dataTable =\n",
              "            await google.colab.kernel.invokeFunction('convertToInteractive',\n",
              "                                                     [key], {});\n",
              "          if (!dataTable) return;\n",
              "\n",
              "          const docLinkHtml = 'Like what you see? Visit the ' +\n",
              "            '<a target=\"_blank\" href=https://colab.research.google.com/notebooks/data_table.ipynb>data table notebook</a>'\n",
              "            + ' to learn more about interactive tables.';\n",
              "          element.innerHTML = '';\n",
              "          dataTable['output_type'] = 'display_data';\n",
              "          await google.colab.output.renderOutput(dataTable, element);\n",
              "          const docLink = document.createElement('div');\n",
              "          docLink.innerHTML = docLinkHtml;\n",
              "          element.appendChild(docLink);\n",
              "        }\n",
              "      </script>\n",
              "    </div>\n",
              "  </div>\n",
              "  "
            ]
          },
          "metadata": {},
          "execution_count": 26
        }
      ]
    },
    {
      "cell_type": "code",
      "source": [
        "from sklearn.preprocessing import StandardScaler\n",
        "from math import sqrt\n",
        "# prepare data for standardization\n",
        "values = df.values\n",
        "print(values)\n",
        "values = values.reshape((len(values), 1))\n",
        "# train the standardization\n",
        "scaler = StandardScaler()\n",
        "scaler = scaler.fit(values)\n",
        "print('Mean: %f, StandardDeviation: %f' % (scaler.mean_, sqrt(scaler.var_)))\n",
        "# standardization the dataset and print the first 5 rows\n",
        "normalized = scaler.transform(values)\n",
        "for i in range(5):\n",
        " print(normalized[i])\n",
        "# inverse transform and print the first 5 rows\n",
        "inversed = scaler.inverse_transform(normalized)\n",
        "for i in range(5):\n",
        " print(inversed[i])\n",
        "df['ANTAL_01'] = normalized\n",
        "print(df)"
      ],
      "metadata": {
        "colab": {
          "base_uri": "https://localhost:8080/"
        },
        "id": "PtMGwciQsF3g",
        "outputId": "74a1a693-afb5-4952-864a-021ceb00864b"
      },
      "execution_count": null,
      "outputs": [
        {
          "output_type": "stream",
          "name": "stdout",
          "text": [
            "[[46084]\n",
            " [46026]\n",
            " [46108]\n",
            " ...\n",
            " [30152]\n",
            " [30121]\n",
            " [30090]]\n",
            "Mean: 40906.524202, StandardDeviation: 4750.513865\n",
            "[1.089877]\n",
            "[1.07766779]\n",
            "[1.09492908]\n",
            "[1.07114218]\n",
            "[1.06251154]\n",
            "[46084.]\n",
            "[46026.]\n",
            "[46108.]\n",
            "[45995.]\n",
            "[45954.]\n",
            "            ANTAL_01\n",
            "DT                  \n",
            "2015-12-31  1.089877\n",
            "2016-01-04  1.077668\n",
            "2016-01-05  1.094929\n",
            "2016-01-06  1.071142\n",
            "2016-01-07  1.062512\n",
            "...              ...\n",
            "2022-12-15 -2.236921\n",
            "2022-12-16 -2.251025\n",
            "2022-12-19 -2.263865\n",
            "2022-12-20 -2.270391\n",
            "2022-12-21 -2.276917\n",
            "\n",
            "[1818 rows x 1 columns]\n"
          ]
        }
      ]
    },
    {
      "cell_type": "code",
      "source": [
        "#training and test\n",
        "training = df.iloc[:-16,:]\n",
        "print(training.index)\n",
        "testing = df.iloc[-16:, :]\n",
        "training,testing, len(training), len(testing)"
      ],
      "metadata": {
        "colab": {
          "base_uri": "https://localhost:8080/"
        },
        "id": "pMtgWh0lsKMc",
        "outputId": "657a7be1-c282-499d-d516-51b1071119cf"
      },
      "execution_count": null,
      "outputs": [
        {
          "output_type": "stream",
          "name": "stdout",
          "text": [
            "DatetimeIndex(['2015-12-31', '2016-01-04', '2016-01-05', '2016-01-06',\n",
            "               '2016-01-07', '2016-01-08', '2016-01-11', '2016-01-12',\n",
            "               '2016-01-13', '2016-01-14',\n",
            "               ...\n",
            "               '2022-11-16', '2022-11-17', '2022-11-18', '2022-11-21',\n",
            "               '2022-11-22', '2022-11-23', '2022-11-24', '2022-11-25',\n",
            "               '2022-11-28', '2022-11-29'],\n",
            "              dtype='datetime64[ns]', name='DT', length=1802, freq=None)\n"
          ]
        },
        {
          "output_type": "execute_result",
          "data": {
            "text/plain": [
              "(            ANTAL_01\n",
              " DT                  \n",
              " 2015-12-31  1.089877\n",
              " 2016-01-04  1.077668\n",
              " 2016-01-05  1.094929\n",
              " 2016-01-06  1.071142\n",
              " 2016-01-07  1.062512\n",
              " ...              ...\n",
              " 2022-11-23 -2.061572\n",
              " 2022-11-24 -2.077149\n",
              " 2022-11-25 -2.071044\n",
              " 2022-11-28 -2.073991\n",
              " 2022-11-29 -2.105146\n",
              " \n",
              " [1802 rows x 1 columns],\n",
              "             ANTAL_01\n",
              " DT                  \n",
              " 2022-11-30 -1.831281\n",
              " 2022-12-01 -1.764551\n",
              " 2022-12-02 -1.786864\n",
              " 2022-12-05 -2.105988\n",
              " 2022-12-06 -2.139458\n",
              " 2022-12-07 -2.171665\n",
              " 2022-12-08 -2.200083\n",
              " 2022-12-09 -2.202398\n",
              " 2022-12-12 -2.224501\n",
              " 2022-12-13 -2.237553\n",
              " 2022-12-14 -2.258182\n",
              " 2022-12-15 -2.236921\n",
              " 2022-12-16 -2.251025\n",
              " 2022-12-19 -2.263865\n",
              " 2022-12-20 -2.270391\n",
              " 2022-12-21 -2.276917,\n",
              " 1802,\n",
              " 16)"
            ]
          },
          "metadata": {},
          "execution_count": 4
        }
      ]
    },
    {
      "cell_type": "code",
      "source": [
        "import matplotlib.pyplot as plt\n",
        "training['ANTAL_01'].astype(float).plot(figsize=(12, 8), label='Training')\n",
        "testing['ANTAL_01'].astype(float).plot(label='Testing')\n",
        "plt.title('Treniravimo ir testavimo duomenų rinkiniai')\n",
        "plt.legend()"
      ],
      "metadata": {
        "colab": {
          "base_uri": "https://localhost:8080/",
          "height": 679
        },
        "id": "-R3fowDRzrPY",
        "outputId": "3f932aad-da55-4d90-bceb-ae605408ec0b"
      },
      "execution_count": null,
      "outputs": [
        {
          "output_type": "execute_result",
          "data": {
            "text/plain": [
              "<matplotlib.legend.Legend at 0x7fcd14373be0>"
            ]
          },
          "metadata": {},
          "execution_count": 5
        },
        {
          "output_type": "display_data",
          "data": {
            "text/plain": [
              "<Figure size 1200x800 with 1 Axes>"
            ],
            "image/png": "[encoded data removed]"
          },
          "metadata": {}
        }
      ]
    },
    {
      "cell_type": "code",
      "source": [
        "pacf = sm.tsa.pacf(training['ANTAL_01'].dropna(), nlags=262)"
      ],
      "metadata": {
        "id": "1aTCvXnlsRl3"
      },
      "execution_count": null,
      "outputs": []
    },
    {
      "cell_type": "code",
      "source": [
        "from statsmodels.graphics.tsaplots import plot_pacf\n",
        "plot_pacf(training.dropna(), lags = 40, method = \"ols\")"
      ],
      "metadata": {
        "colab": {
          "base_uri": "https://localhost:8080/",
          "height": 887
        },
        "id": "8B9PfE20sSHC",
        "outputId": "0d5f6717-359a-465a-bcbb-ea611c046453"
      },
      "execution_count": null,
      "outputs": [
        {
          "output_type": "execute_result",
          "data": {
            "text/plain": [
              "<Figure size 640x480 with 1 Axes>"
            ],
            "image/png": "[encoded data removed]"
          },
          "metadata": {},
          "execution_count": 7
        },
        {
          "output_type": "display_data",
          "data": {
            "text/plain": [
              "<Figure size 640x480 with 1 Axes>"
            ],
            "image/png": "[encoded data removed]"
          },
          "metadata": {}
        }
      ]
    },
    {
      "cell_type": "code",
      "source": [
        "training.dropna()"
      ],
      "metadata": {
        "colab": {
          "base_uri": "https://localhost:8080/",
          "height": 455
        },
        "id": "aztjZ-GgsT0n",
        "outputId": "b4836228-da2e-4a0f-84c9-c97d2b81615c"
      },
      "execution_count": null,
      "outputs": [
        {
          "output_type": "execute_result",
          "data": {
            "text/plain": [
              "            ANTAL_01\n",
              "DT                  \n",
              "2015-12-31  1.089877\n",
              "2016-01-04  1.077668\n",
              "2016-01-05  1.094929\n",
              "2016-01-06  1.071142\n",
              "2016-01-07  1.062512\n",
              "...              ...\n",
              "2022-11-23 -2.061572\n",
              "2022-11-24 -2.077149\n",
              "2022-11-25 -2.071044\n",
              "2022-11-28 -2.073991\n",
              "2022-11-29 -2.105146\n",
              "\n",
              "[1802 rows x 1 columns]"
            ],
            "text/html": [
              "\n",
              "  <div id=\"df-8934478f-e32b-40b8-a96d-44ad85bfd58b\">\n",
              "    <div class=\"colab-df-container\">\n",
              "      <div>\n",
              "<style scoped>\n",
              "    .dataframe tbody tr th:only-of-type {\n",
              "        vertical-align: middle;\n",
              "    }\n",
              "\n",
              "    .dataframe tbody tr th {\n",
              "        vertical-align: top;\n",
              "    }\n",
              "\n",
              "    .dataframe thead th {\n",
              "        text-align: right;\n",
              "    }\n",
              "</style>\n",
              "<table border=\"1\" class=\"dataframe\">\n",
              "  <thead>\n",
              "    <tr style=\"text-align: right;\">\n",
              "      <th></th>\n",
              "      <th>ANTAL_01</th>\n",
              "    </tr>\n",
              "    <tr>\n",
              "      <th>DT</th>\n",
              "      <th></th>\n",
              "    </tr>\n",
              "  </thead>\n",
              "  <tbody>\n",
              "    <tr>\n",
              "      <th>2015-12-31</th>\n",
              "      <td>1.089877</td>\n",
              "    </tr>\n",
              "    <tr>\n",
              "      <th>2016-01-04</th>\n",
              "      <td>1.077668</td>\n",
              "    </tr>\n",
              "    <tr>\n",
              "      <th>2016-01-05</th>\n",
              "      <td>1.094929</td>\n",
              "    </tr>\n",
              "    <tr>\n",
              "      <th>2016-01-06</th>\n",
              "      <td>1.071142</td>\n",
              "    </tr>\n",
              "    <tr>\n",
              "      <th>2016-01-07</th>\n",
              "      <td>1.062512</td>\n",
              "    </tr>\n",
              "    <tr>\n",
              "      <th>...</th>\n",
              "      <td>...</td>\n",
              "    </tr>\n",
              "    <tr>\n",
              "      <th>2022-11-23</th>\n",
              "      <td>-2.061572</td>\n",
              "    </tr>\n",
              "    <tr>\n",
              "      <th>2022-11-24</th>\n",
              "      <td>-2.077149</td>\n",
              "    </tr>\n",
              "    <tr>\n",
              "      <th>2022-11-25</th>\n",
              "      <td>-2.071044</td>\n",
              "    </tr>\n",
              "    <tr>\n",
              "      <th>2022-11-28</th>\n",
              "      <td>-2.073991</td>\n",
              "    </tr>\n",
              "    <tr>\n",
              "      <th>2022-11-29</th>\n",
              "      <td>-2.105146</td>\n",
              "    </tr>\n",
              "  </tbody>\n",
              "</table>\n",
              "<p>1802 rows × 1 columns</p>\n",
              "</div>\n",
              "      <button class=\"colab-df-convert\" onclick=\"convertToInteractive('df-8934478f-e32b-40b8-a96d-44ad85bfd58b')\"\n",
              "              title=\"Convert this dataframe to an interactive table.\"\n",
              "              style=\"display:none;\">\n",
              "        \n",
              "  <svg xmlns=\"http://www.w3.org/2000/svg\" height=\"24px\"viewBox=\"0 0 24 24\"\n",
              "       width=\"24px\">\n",
              "    <path d=\"M0 0h24v24H0V0z\" fill=\"none\"/>\n",
              "    <path d=\"M18.56 5.44l.94 2.06.94-2.06 2.06-.94-2.06-.94-.94-2.06-.94 2.06-2.06.94zm-11 1L8.5 8.5l.94-2.06 2.06-.94-2.06-.94L8.5 2.5l-.94 2.06-2.06.94zm10 10l.94 2.06.94-2.06 2.06-.94-2.06-.94-.94-2.06-.94 2.06-2.06.94z\"/><path d=\"M17.41 7.96l-1.37-1.37c-.4-.4-.92-.59-1.43-.59-.52 0-1.04.2-1.43.59L10.3 9.45l-7.72 7.72c-.78.78-.78 2.05 0 2.83L4 21.41c.39.39.9.59 1.41.59.51 0 1.02-.2 1.41-.59l7.78-7.78 2.81-2.81c.8-.78.8-2.07 0-2.86zM5.41 20L4 18.59l7.72-7.72 1.47 1.35L5.41 20z\"/>\n",
              "  </svg>\n",
              "      </button>\n",
              "      \n",
              "  <style>\n",
              "    .colab-df-container {\n",
              "      display:flex;\n",
              "      flex-wrap:wrap;\n",
              "      gap: 12px;\n",
              "    }\n",
              "\n",
              "    .colab-df-convert {\n",
              "      background-color: #E8F0FE;\n",
              "      border: none;\n",
              "      border-radius: 50%;\n",
              "      cursor: pointer;\n",
              "      display: none;\n",
              "      fill: #1967D2;\n",
              "      height: 32px;\n",
              "      padding: 0 0 0 0;\n",
              "      width: 32px;\n",
              "    }\n",
              "\n",
              "    .colab-df-convert:hover {\n",
              "      background-color: #E2EBFA;\n",
              "      box-shadow: 0px 1px 2px rgba(60, 64, 67, 0.3), 0px 1px 3px 1px rgba(60, 64, 67, 0.15);\n",
              "      fill: #174EA6;\n",
              "    }\n",
              "\n",
              "    [theme=dark] .colab-df-convert {\n",
              "      background-color: #3B4455;\n",
              "      fill: #D2E3FC;\n",
              "    }\n",
              "\n",
              "    [theme=dark] .colab-df-convert:hover {\n",
              "      background-color: #434B5C;\n",
              "      box-shadow: 0px 1px 3px 1px rgba(0, 0, 0, 0.15);\n",
              "      filter: drop-shadow(0px 1px 2px rgba(0, 0, 0, 0.3));\n",
              "      fill: #FFFFFF;\n",
              "    }\n",
              "  </style>\n",
              "\n",
              "      <script>\n",
              "        const buttonEl =\n",
              "          document.querySelector('#df-8934478f-e32b-40b8-a96d-44ad85bfd58b button.colab-df-convert');\n",
              "        buttonEl.style.display =\n",
              "          google.colab.kernel.accessAllowed ? 'block' : 'none';\n",
              "\n",
              "        async function convertToInteractive(key) {\n",
              "          const element = document.querySelector('#df-8934478f-e32b-40b8-a96d-44ad85bfd58b');\n",
              "          const dataTable =\n",
              "            await google.colab.kernel.invokeFunction('convertToInteractive',\n",
              "                                                     [key], {});\n",
              "          if (!dataTable) return;\n",
              "\n",
              "          const docLinkHtml = 'Like what you see? Visit the ' +\n",
              "            '<a target=\"_blank\" href=https://colab.research.google.com/notebooks/data_table.ipynb>data table notebook</a>'\n",
              "            + ' to learn more about interactive tables.';\n",
              "          element.innerHTML = '';\n",
              "          dataTable['output_type'] = 'display_data';\n",
              "          await google.colab.output.renderOutput(dataTable, element);\n",
              "          const docLink = document.createElement('div');\n",
              "          docLink.innerHTML = docLinkHtml;\n",
              "          element.appendChild(docLink);\n",
              "        }\n",
              "      </script>\n",
              "    </div>\n",
              "  </div>\n",
              "  "
            ]
          },
          "metadata": {},
          "execution_count": 8
        }
      ]
    },
    {
      "cell_type": "code",
      "source": [
        "# repeat the ACF values until it matches the length of the training dataset\n",
        "pacf_repeated = np.tile(pacf, int(np.ceil(len(training) / len(pacf))))[:len(training)]\n",
        "pacf_repeated"
      ],
      "metadata": {
        "colab": {
          "base_uri": "https://localhost:8080/"
        },
        "id": "hG3Jru7TsasE",
        "outputId": "b820d3d6-a9fe-4932-b573-aa758128159b"
      },
      "execution_count": null,
      "outputs": [
        {
          "output_type": "execute_result",
          "data": {
            "text/plain": [
              "array([ 1.        ,  0.991156  , -0.01891984, ...,  0.01818542,\n",
              "        0.03896284,  0.00206298])"
            ]
          },
          "metadata": {},
          "execution_count": 9
        }
      ]
    },
    {
      "cell_type": "code",
      "source": [
        "# create a DataFrame with the repeated ACF values as a column\n",
        "exog = pd.DataFrame({'pacf': pacf_repeated}, index=training.index)\n",
        "exog"
      ],
      "metadata": {
        "colab": {
          "base_uri": "https://localhost:8080/",
          "height": 455
        },
        "id": "XHWLFfMkscYL",
        "outputId": "8fe76d72-197f-4e40-a92a-3c79ab6ef012"
      },
      "execution_count": null,
      "outputs": [
        {
          "output_type": "execute_result",
          "data": {
            "text/plain": [
              "                pacf\n",
              "DT                  \n",
              "2015-12-31  1.000000\n",
              "2016-01-04  0.991156\n",
              "2016-01-05 -0.018920\n",
              "2016-01-06  0.023602\n",
              "2016-01-07  0.216646\n",
              "...              ...\n",
              "2022-11-23 -0.017506\n",
              "2022-11-24  0.039619\n",
              "2022-11-25  0.018185\n",
              "2022-11-28  0.038963\n",
              "2022-11-29  0.002063\n",
              "\n",
              "[1802 rows x 1 columns]"
            ],
            "text/html": [
              "\n",
              "  <div id=\"df-7c5237c6-8414-423f-a9b2-219cf9279765\">\n",
              "    <div class=\"colab-df-container\">\n",
              "      <div>\n",
              "<style scoped>\n",
              "    .dataframe tbody tr th:only-of-type {\n",
              "        vertical-align: middle;\n",
              "    }\n",
              "\n",
              "    .dataframe tbody tr th {\n",
              "        vertical-align: top;\n",
              "    }\n",
              "\n",
              "    .dataframe thead th {\n",
              "        text-align: right;\n",
              "    }\n",
              "</style>\n",
              "<table border=\"1\" class=\"dataframe\">\n",
              "  <thead>\n",
              "    <tr style=\"text-align: right;\">\n",
              "      <th></th>\n",
              "      <th>pacf</th>\n",
              "    </tr>\n",
              "    <tr>\n",
              "      <th>DT</th>\n",
              "      <th></th>\n",
              "    </tr>\n",
              "  </thead>\n",
              "  <tbody>\n",
              "    <tr>\n",
              "      <th>2015-12-31</th>\n",
              "      <td>1.000000</td>\n",
              "    </tr>\n",
              "    <tr>\n",
              "      <th>2016-01-04</th>\n",
              "      <td>0.991156</td>\n",
              "    </tr>\n",
              "    <tr>\n",
              "      <th>2016-01-05</th>\n",
              "      <td>-0.018920</td>\n",
              "    </tr>\n",
              "    <tr>\n",
              "      <th>2016-01-06</th>\n",
              "      <td>0.023602</td>\n",
              "    </tr>\n",
              "    <tr>\n",
              "      <th>2016-01-07</th>\n",
              "      <td>0.216646</td>\n",
              "    </tr>\n",
              "    <tr>\n",
              "      <th>...</th>\n",
              "      <td>...</td>\n",
              "    </tr>\n",
              "    <tr>\n",
              "      <th>2022-11-23</th>\n",
              "      <td>-0.017506</td>\n",
              "    </tr>\n",
              "    <tr>\n",
              "      <th>2022-11-24</th>\n",
              "      <td>0.039619</td>\n",
              "    </tr>\n",
              "    <tr>\n",
              "      <th>2022-11-25</th>\n",
              "      <td>0.018185</td>\n",
              "    </tr>\n",
              "    <tr>\n",
              "      <th>2022-11-28</th>\n",
              "      <td>0.038963</td>\n",
              "    </tr>\n",
              "    <tr>\n",
              "      <th>2022-11-29</th>\n",
              "      <td>0.002063</td>\n",
              "    </tr>\n",
              "  </tbody>\n",
              "</table>\n",
              "<p>1802 rows × 1 columns</p>\n",
              "</div>\n",
              "      <button class=\"colab-df-convert\" onclick=\"convertToInteractive('df-7c5237c6-8414-423f-a9b2-219cf9279765')\"\n",
              "              title=\"Convert this dataframe to an interactive table.\"\n",
              "              style=\"display:none;\">\n",
              "        \n",
              "  <svg xmlns=\"http://www.w3.org/2000/svg\" height=\"24px\"viewBox=\"0 0 24 24\"\n",
              "       width=\"24px\">\n",
              "    <path d=\"M0 0h24v24H0V0z\" fill=\"none\"/>\n",
              "    <path d=\"M18.56 5.44l.94 2.06.94-2.06 2.06-.94-2.06-.94-.94-2.06-.94 2.06-2.06.94zm-11 1L8.5 8.5l.94-2.06 2.06-.94-2.06-.94L8.5 2.5l-.94 2.06-2.06.94zm10 10l.94 2.06.94-2.06 2.06-.94-2.06-.94-.94-2.06-.94 2.06-2.06.94z\"/><path d=\"M17.41 7.96l-1.37-1.37c-.4-.4-.92-.59-1.43-.59-.52 0-1.04.2-1.43.59L10.3 9.45l-7.72 7.72c-.78.78-.78 2.05 0 2.83L4 21.41c.39.39.9.59 1.41.59.51 0 1.02-.2 1.41-.59l7.78-7.78 2.81-2.81c.8-.78.8-2.07 0-2.86zM5.41 20L4 18.59l7.72-7.72 1.47 1.35L5.41 20z\"/>\n",
              "  </svg>\n",
              "      </button>\n",
              "      \n",
              "  <style>\n",
              "    .colab-df-container {\n",
              "      display:flex;\n",
              "      flex-wrap:wrap;\n",
              "      gap: 12px;\n",
              "    }\n",
              "\n",
              "    .colab-df-convert {\n",
              "      background-color: #E8F0FE;\n",
              "      border: none;\n",
              "      border-radius: 50%;\n",
              "      cursor: pointer;\n",
              "      display: none;\n",
              "      fill: #1967D2;\n",
              "      height: 32px;\n",
              "      padding: 0 0 0 0;\n",
              "      width: 32px;\n",
              "    }\n",
              "\n",
              "    .colab-df-convert:hover {\n",
              "      background-color: #E2EBFA;\n",
              "      box-shadow: 0px 1px 2px rgba(60, 64, 67, 0.3), 0px 1px 3px 1px rgba(60, 64, 67, 0.15);\n",
              "      fill: #174EA6;\n",
              "    }\n",
              "\n",
              "    [theme=dark] .colab-df-convert {\n",
              "      background-color: #3B4455;\n",
              "      fill: #D2E3FC;\n",
              "    }\n",
              "\n",
              "    [theme=dark] .colab-df-convert:hover {\n",
              "      background-color: #434B5C;\n",
              "      box-shadow: 0px 1px 3px 1px rgba(0, 0, 0, 0.15);\n",
              "      filter: drop-shadow(0px 1px 2px rgba(0, 0, 0, 0.3));\n",
              "      fill: #FFFFFF;\n",
              "    }\n",
              "  </style>\n",
              "\n",
              "      <script>\n",
              "        const buttonEl =\n",
              "          document.querySelector('#df-7c5237c6-8414-423f-a9b2-219cf9279765 button.colab-df-convert');\n",
              "        buttonEl.style.display =\n",
              "          google.colab.kernel.accessAllowed ? 'block' : 'none';\n",
              "\n",
              "        async function convertToInteractive(key) {\n",
              "          const element = document.querySelector('#df-7c5237c6-8414-423f-a9b2-219cf9279765');\n",
              "          const dataTable =\n",
              "            await google.colab.kernel.invokeFunction('convertToInteractive',\n",
              "                                                     [key], {});\n",
              "          if (!dataTable) return;\n",
              "\n",
              "          const docLinkHtml = 'Like what you see? Visit the ' +\n",
              "            '<a target=\"_blank\" href=https://colab.research.google.com/notebooks/data_table.ipynb>data table notebook</a>'\n",
              "            + ' to learn more about interactive tables.';\n",
              "          element.innerHTML = '';\n",
              "          dataTable['output_type'] = 'display_data';\n",
              "          await google.colab.output.renderOutput(dataTable, element);\n",
              "          const docLink = document.createElement('div');\n",
              "          docLink.innerHTML = docLinkHtml;\n",
              "          element.appendChild(docLink);\n",
              "        }\n",
              "      </script>\n",
              "    </div>\n",
              "  </div>\n",
              "  "
            ]
          },
          "metadata": {},
          "execution_count": 10
        }
      ]
    },
    {
      "cell_type": "code",
      "source": [
        "# drop any rows with missing values from the exog dataframe\n",
        "exog = exog.dropna()\n",
        "exog"
      ],
      "metadata": {
        "colab": {
          "base_uri": "https://localhost:8080/",
          "height": 455
        },
        "id": "aarCdDTPscwz",
        "outputId": "e3c1ccba-ea1b-4c7d-cae6-d8a5568e8821"
      },
      "execution_count": null,
      "outputs": [
        {
          "output_type": "execute_result",
          "data": {
            "text/plain": [
              "                pacf\n",
              "DT                  \n",
              "2015-12-31  1.000000\n",
              "2016-01-04  0.991156\n",
              "2016-01-05 -0.018920\n",
              "2016-01-06  0.023602\n",
              "2016-01-07  0.216646\n",
              "...              ...\n",
              "2022-11-23 -0.017506\n",
              "2022-11-24  0.039619\n",
              "2022-11-25  0.018185\n",
              "2022-11-28  0.038963\n",
              "2022-11-29  0.002063\n",
              "\n",
              "[1802 rows x 1 columns]"
            ],
            "text/html": [
              "\n",
              "  <div id=\"df-06c87a4e-6596-4d2e-a6ff-e782ae3241ce\">\n",
              "    <div class=\"colab-df-container\">\n",
              "      <div>\n",
              "<style scoped>\n",
              "    .dataframe tbody tr th:only-of-type {\n",
              "        vertical-align: middle;\n",
              "    }\n",
              "\n",
              "    .dataframe tbody tr th {\n",
              "        vertical-align: top;\n",
              "    }\n",
              "\n",
              "    .dataframe thead th {\n",
              "        text-align: right;\n",
              "    }\n",
              "</style>\n",
              "<table border=\"1\" class=\"dataframe\">\n",
              "  <thead>\n",
              "    <tr style=\"text-align: right;\">\n",
              "      <th></th>\n",
              "      <th>pacf</th>\n",
              "    </tr>\n",
              "    <tr>\n",
              "      <th>DT</th>\n",
              "      <th></th>\n",
              "    </tr>\n",
              "  </thead>\n",
              "  <tbody>\n",
              "    <tr>\n",
              "      <th>2015-12-31</th>\n",
              "      <td>1.000000</td>\n",
              "    </tr>\n",
              "    <tr>\n",
              "      <th>2016-01-04</th>\n",
              "      <td>0.991156</td>\n",
              "    </tr>\n",
              "    <tr>\n",
              "      <th>2016-01-05</th>\n",
              "      <td>-0.018920</td>\n",
              "    </tr>\n",
              "    <tr>\n",
              "      <th>2016-01-06</th>\n",
              "      <td>0.023602</td>\n",
              "    </tr>\n",
              "    <tr>\n",
              "      <th>2016-01-07</th>\n",
              "      <td>0.216646</td>\n",
              "    </tr>\n",
              "    <tr>\n",
              "      <th>...</th>\n",
              "      <td>...</td>\n",
              "    </tr>\n",
              "    <tr>\n",
              "      <th>2022-11-23</th>\n",
              "      <td>-0.017506</td>\n",
              "    </tr>\n",
              "    <tr>\n",
              "      <th>2022-11-24</th>\n",
              "      <td>0.039619</td>\n",
              "    </tr>\n",
              "    <tr>\n",
              "      <th>2022-11-25</th>\n",
              "      <td>0.018185</td>\n",
              "    </tr>\n",
              "    <tr>\n",
              "      <th>2022-11-28</th>\n",
              "      <td>0.038963</td>\n",
              "    </tr>\n",
              "    <tr>\n",
              "      <th>2022-11-29</th>\n",
              "      <td>0.002063</td>\n",
              "    </tr>\n",
              "  </tbody>\n",
              "</table>\n",
              "<p>1802 rows × 1 columns</p>\n",
              "</div>\n",
              "      <button class=\"colab-df-convert\" onclick=\"convertToInteractive('df-06c87a4e-6596-4d2e-a6ff-e782ae3241ce')\"\n",
              "              title=\"Convert this dataframe to an interactive table.\"\n",
              "              style=\"display:none;\">\n",
              "        \n",
              "  <svg xmlns=\"http://www.w3.org/2000/svg\" height=\"24px\"viewBox=\"0 0 24 24\"\n",
              "       width=\"24px\">\n",
              "    <path d=\"M0 0h24v24H0V0z\" fill=\"none\"/>\n",
              "    <path d=\"M18.56 5.44l.94 2.06.94-2.06 2.06-.94-2.06-.94-.94-2.06-.94 2.06-2.06.94zm-11 1L8.5 8.5l.94-2.06 2.06-.94-2.06-.94L8.5 2.5l-.94 2.06-2.06.94zm10 10l.94 2.06.94-2.06 2.06-.94-2.06-.94-.94-2.06-.94 2.06-2.06.94z\"/><path d=\"M17.41 7.96l-1.37-1.37c-.4-.4-.92-.59-1.43-.59-.52 0-1.04.2-1.43.59L10.3 9.45l-7.72 7.72c-.78.78-.78 2.05 0 2.83L4 21.41c.39.39.9.59 1.41.59.51 0 1.02-.2 1.41-.59l7.78-7.78 2.81-2.81c.8-.78.8-2.07 0-2.86zM5.41 20L4 18.59l7.72-7.72 1.47 1.35L5.41 20z\"/>\n",
              "  </svg>\n",
              "      </button>\n",
              "      \n",
              "  <style>\n",
              "    .colab-df-container {\n",
              "      display:flex;\n",
              "      flex-wrap:wrap;\n",
              "      gap: 12px;\n",
              "    }\n",
              "\n",
              "    .colab-df-convert {\n",
              "      background-color: #E8F0FE;\n",
              "      border: none;\n",
              "      border-radius: 50%;\n",
              "      cursor: pointer;\n",
              "      display: none;\n",
              "      fill: #1967D2;\n",
              "      height: 32px;\n",
              "      padding: 0 0 0 0;\n",
              "      width: 32px;\n",
              "    }\n",
              "\n",
              "    .colab-df-convert:hover {\n",
              "      background-color: #E2EBFA;\n",
              "      box-shadow: 0px 1px 2px rgba(60, 64, 67, 0.3), 0px 1px 3px 1px rgba(60, 64, 67, 0.15);\n",
              "      fill: #174EA6;\n",
              "    }\n",
              "\n",
              "    [theme=dark] .colab-df-convert {\n",
              "      background-color: #3B4455;\n",
              "      fill: #D2E3FC;\n",
              "    }\n",
              "\n",
              "    [theme=dark] .colab-df-convert:hover {\n",
              "      background-color: #434B5C;\n",
              "      box-shadow: 0px 1px 3px 1px rgba(0, 0, 0, 0.15);\n",
              "      filter: drop-shadow(0px 1px 2px rgba(0, 0, 0, 0.3));\n",
              "      fill: #FFFFFF;\n",
              "    }\n",
              "  </style>\n",
              "\n",
              "      <script>\n",
              "        const buttonEl =\n",
              "          document.querySelector('#df-06c87a4e-6596-4d2e-a6ff-e782ae3241ce button.colab-df-convert');\n",
              "        buttonEl.style.display =\n",
              "          google.colab.kernel.accessAllowed ? 'block' : 'none';\n",
              "\n",
              "        async function convertToInteractive(key) {\n",
              "          const element = document.querySelector('#df-06c87a4e-6596-4d2e-a6ff-e782ae3241ce');\n",
              "          const dataTable =\n",
              "            await google.colab.kernel.invokeFunction('convertToInteractive',\n",
              "                                                     [key], {});\n",
              "          if (!dataTable) return;\n",
              "\n",
              "          const docLinkHtml = 'Like what you see? Visit the ' +\n",
              "            '<a target=\"_blank\" href=https://colab.research.google.com/notebooks/data_table.ipynb>data table notebook</a>'\n",
              "            + ' to learn more about interactive tables.';\n",
              "          element.innerHTML = '';\n",
              "          dataTable['output_type'] = 'display_data';\n",
              "          await google.colab.output.renderOutput(dataTable, element);\n",
              "          const docLink = document.createElement('div');\n",
              "          docLink.innerHTML = docLinkHtml;\n",
              "          element.appendChild(docLink);\n",
              "        }\n",
              "      </script>\n",
              "    </div>\n",
              "  </div>\n",
              "  "
            ]
          },
          "metadata": {},
          "execution_count": 11
        }
      ]
    },
    {
      "cell_type": "code",
      "source": [
        "np.asarray(training)"
      ],
      "metadata": {
        "colab": {
          "base_uri": "https://localhost:8080/"
        },
        "id": "56phfAkAse_y",
        "outputId": "8be28d0a-7091-4939-cebd-32dd42591a56"
      },
      "execution_count": null,
      "outputs": [
        {
          "output_type": "execute_result",
          "data": {
            "text/plain": [
              "array([[ 1.089877  ],\n",
              "       [ 1.07766779],\n",
              "       [ 1.09492908],\n",
              "       ...,\n",
              "       [-2.0710442 ],\n",
              "       [-2.07399125],\n",
              "       [-2.10514578]])"
            ]
          },
          "metadata": {},
          "execution_count": 12
        }
      ]
    },
    {
      "cell_type": "code",
      "source": [
        "# fit SARIMAX model with exogenous variable\n",
        "model = sm.tsa.SARIMAX(training['ANTAL_01'].astype(float), exog=np.asarray(exog), order=(1,0,1), seasonal_order=(1,0,1,22))\n",
        "result = model.fit()"
      ],
      "metadata": {
        "colab": {
          "base_uri": "https://localhost:8080/"
        },
        "id": "fY2jNA27sg-D",
        "outputId": "3c58d10a-fa25-4c91-b2d4-028459850c29"
      },
      "execution_count": null,
      "outputs": [
        {
          "output_type": "stream",
          "name": "stderr",
          "text": [
            "/usr/local/lib/python3.10/dist-packages/statsmodels/tsa/base/tsa_model.py:471: ValueWarning: A date index has been provided, but it has no associated frequency information and so will be ignored when e.g. forecasting.\n",
            "  self._init_dates(dates, freq)\n",
            "/usr/local/lib/python3.10/dist-packages/statsmodels/tsa/base/tsa_model.py:471: ValueWarning: A date index has been provided, but it has no associated frequency information and so will be ignored when e.g. forecasting.\n",
            "  self._init_dates(dates, freq)\n",
            "/usr/local/lib/python3.10/dist-packages/statsmodels/base/model.py:604: ConvergenceWarning: Maximum Likelihood optimization failed to converge. Check mle_retvals\n",
            "  warnings.warn(\"Maximum Likelihood optimization failed to \"\n"
          ]
        }
      ]
    },
    {
      "cell_type": "code",
      "source": [
        "exogTest = exog.tail(22)\n",
        "exogTest2 = exogTest.head(len(testing))\n",
        "exogTest2\n",
        "exogvar = np.asarray(exogTest2['pacf'])\n",
        "exogvar = np.asarray(exogTest2['pacf'])\n",
        "# make predictions with the fitted model and exogenous variables for test dataset\n",
        "test_exog = pd.DataFrame({'pacf': exogvar}, index=testing.index)\n",
        "test_exog"
      ],
      "metadata": {
        "colab": {
          "base_uri": "https://localhost:8080/",
          "height": 582
        },
        "id": "EfFh9-Hcs92m",
        "outputId": "718ad06a-5324-4268-a61a-98064b8eeb7a"
      },
      "execution_count": null,
      "outputs": [
        {
          "output_type": "execute_result",
          "data": {
            "text/plain": [
              "                pacf\n",
              "DT                  \n",
              "2022-11-30  0.026169\n",
              "2022-12-01  0.012491\n",
              "2022-12-02  0.018803\n",
              "2022-12-05 -0.001914\n",
              "2022-12-06  0.002062\n",
              "2022-12-07  0.020893\n",
              "2022-12-08  0.019306\n",
              "2022-12-09  0.007888\n",
              "2022-12-12  0.010651\n",
              "2022-12-13  0.003929\n",
              "2022-12-14  0.000182\n",
              "2022-12-15  0.010306\n",
              "2022-12-16  0.021905\n",
              "2022-12-19 -0.034904\n",
              "2022-12-20 -0.033628\n",
              "2022-12-21 -0.024189"
            ],
            "text/html": [
              "\n",
              "  <div id=\"df-de15d319-eb39-42f8-928a-9cf19b7a865b\">\n",
              "    <div class=\"colab-df-container\">\n",
              "      <div>\n",
              "<style scoped>\n",
              "    .dataframe tbody tr th:only-of-type {\n",
              "        vertical-align: middle;\n",
              "    }\n",
              "\n",
              "    .dataframe tbody tr th {\n",
              "        vertical-align: top;\n",
              "    }\n",
              "\n",
              "    .dataframe thead th {\n",
              "        text-align: right;\n",
              "    }\n",
              "</style>\n",
              "<table border=\"1\" class=\"dataframe\">\n",
              "  <thead>\n",
              "    <tr style=\"text-align: right;\">\n",
              "      <th></th>\n",
              "      <th>pacf</th>\n",
              "    </tr>\n",
              "    <tr>\n",
              "      <th>DT</th>\n",
              "      <th></th>\n",
              "    </tr>\n",
              "  </thead>\n",
              "  <tbody>\n",
              "    <tr>\n",
              "      <th>2022-11-30</th>\n",
              "      <td>0.026169</td>\n",
              "    </tr>\n",
              "    <tr>\n",
              "      <th>2022-12-01</th>\n",
              "      <td>0.012491</td>\n",
              "    </tr>\n",
              "    <tr>\n",
              "      <th>2022-12-02</th>\n",
              "      <td>0.018803</td>\n",
              "    </tr>\n",
              "    <tr>\n",
              "      <th>2022-12-05</th>\n",
              "      <td>-0.001914</td>\n",
              "    </tr>\n",
              "    <tr>\n",
              "      <th>2022-12-06</th>\n",
              "      <td>0.002062</td>\n",
              "    </tr>\n",
              "    <tr>\n",
              "      <th>2022-12-07</th>\n",
              "      <td>0.020893</td>\n",
              "    </tr>\n",
              "    <tr>\n",
              "      <th>2022-12-08</th>\n",
              "      <td>0.019306</td>\n",
              "    </tr>\n",
              "    <tr>\n",
              "      <th>2022-12-09</th>\n",
              "      <td>0.007888</td>\n",
              "    </tr>\n",
              "    <tr>\n",
              "      <th>2022-12-12</th>\n",
              "      <td>0.010651</td>\n",
              "    </tr>\n",
              "    <tr>\n",
              "      <th>2022-12-13</th>\n",
              "      <td>0.003929</td>\n",
              "    </tr>\n",
              "    <tr>\n",
              "      <th>2022-12-14</th>\n",
              "      <td>0.000182</td>\n",
              "    </tr>\n",
              "    <tr>\n",
              "      <th>2022-12-15</th>\n",
              "      <td>0.010306</td>\n",
              "    </tr>\n",
              "    <tr>\n",
              "      <th>2022-12-16</th>\n",
              "      <td>0.021905</td>\n",
              "    </tr>\n",
              "    <tr>\n",
              "      <th>2022-12-19</th>\n",
              "      <td>-0.034904</td>\n",
              "    </tr>\n",
              "    <tr>\n",
              "      <th>2022-12-20</th>\n",
              "      <td>-0.033628</td>\n",
              "    </tr>\n",
              "    <tr>\n",
              "      <th>2022-12-21</th>\n",
              "      <td>-0.024189</td>\n",
              "    </tr>\n",
              "  </tbody>\n",
              "</table>\n",
              "</div>\n",
              "      <button class=\"colab-df-convert\" onclick=\"convertToInteractive('df-de15d319-eb39-42f8-928a-9cf19b7a865b')\"\n",
              "              title=\"Convert this dataframe to an interactive table.\"\n",
              "              style=\"display:none;\">\n",
              "        \n",
              "  <svg xmlns=\"http://www.w3.org/2000/svg\" height=\"24px\"viewBox=\"0 0 24 24\"\n",
              "       width=\"24px\">\n",
              "    <path d=\"M0 0h24v24H0V0z\" fill=\"none\"/>\n",
              "    <path d=\"M18.56 5.44l.94 2.06.94-2.06 2.06-.94-2.06-.94-.94-2.06-.94 2.06-2.06.94zm-11 1L8.5 8.5l.94-2.06 2.06-.94-2.06-.94L8.5 2.5l-.94 2.06-2.06.94zm10 10l.94 2.06.94-2.06 2.06-.94-2.06-.94-.94-2.06-.94 2.06-2.06.94z\"/><path d=\"M17.41 7.96l-1.37-1.37c-.4-.4-.92-.59-1.43-.59-.52 0-1.04.2-1.43.59L10.3 9.45l-7.72 7.72c-.78.78-.78 2.05 0 2.83L4 21.41c.39.39.9.59 1.41.59.51 0 1.02-.2 1.41-.59l7.78-7.78 2.81-2.81c.8-.78.8-2.07 0-2.86zM5.41 20L4 18.59l7.72-7.72 1.47 1.35L5.41 20z\"/>\n",
              "  </svg>\n",
              "      </button>\n",
              "      \n",
              "  <style>\n",
              "    .colab-df-container {\n",
              "      display:flex;\n",
              "      flex-wrap:wrap;\n",
              "      gap: 12px;\n",
              "    }\n",
              "\n",
              "    .colab-df-convert {\n",
              "      background-color: #E8F0FE;\n",
              "      border: none;\n",
              "      border-radius: 50%;\n",
              "      cursor: pointer;\n",
              "      display: none;\n",
              "      fill: #1967D2;\n",
              "      height: 32px;\n",
              "      padding: 0 0 0 0;\n",
              "      width: 32px;\n",
              "    }\n",
              "\n",
              "    .colab-df-convert:hover {\n",
              "      background-color: #E2EBFA;\n",
              "      box-shadow: 0px 1px 2px rgba(60, 64, 67, 0.3), 0px 1px 3px 1px rgba(60, 64, 67, 0.15);\n",
              "      fill: #174EA6;\n",
              "    }\n",
              "\n",
              "    [theme=dark] .colab-df-convert {\n",
              "      background-color: #3B4455;\n",
              "      fill: #D2E3FC;\n",
              "    }\n",
              "\n",
              "    [theme=dark] .colab-df-convert:hover {\n",
              "      background-color: #434B5C;\n",
              "      box-shadow: 0px 1px 3px 1px rgba(0, 0, 0, 0.15);\n",
              "      filter: drop-shadow(0px 1px 2px rgba(0, 0, 0, 0.3));\n",
              "      fill: #FFFFFF;\n",
              "    }\n",
              "  </style>\n",
              "\n",
              "      <script>\n",
              "        const buttonEl =\n",
              "          document.querySelector('#df-de15d319-eb39-42f8-928a-9cf19b7a865b button.colab-df-convert');\n",
              "        buttonEl.style.display =\n",
              "          google.colab.kernel.accessAllowed ? 'block' : 'none';\n",
              "\n",
              "        async function convertToInteractive(key) {\n",
              "          const element = document.querySelector('#df-de15d319-eb39-42f8-928a-9cf19b7a865b');\n",
              "          const dataTable =\n",
              "            await google.colab.kernel.invokeFunction('convertToInteractive',\n",
              "                                                     [key], {});\n",
              "          if (!dataTable) return;\n",
              "\n",
              "          const docLinkHtml = 'Like what you see? Visit the ' +\n",
              "            '<a target=\"_blank\" href=https://colab.research.google.com/notebooks/data_table.ipynb>data table notebook</a>'\n",
              "            + ' to learn more about interactive tables.';\n",
              "          element.innerHTML = '';\n",
              "          dataTable['output_type'] = 'display_data';\n",
              "          await google.colab.output.renderOutput(dataTable, element);\n",
              "          const docLink = document.createElement('div');\n",
              "          docLink.innerHTML = docLinkHtml;\n",
              "          element.appendChild(docLink);\n",
              "        }\n",
              "      </script>\n",
              "    </div>\n",
              "  </div>\n",
              "  "
            ]
          },
          "metadata": {},
          "execution_count": 14
        }
      ]
    },
    {
      "cell_type": "code",
      "source": [
        "# predict using SARIMAX model\n",
        "pred = result.predict(start=len(training), end=len(training)+len(testing)-1, exog=test_exog)"
      ],
      "metadata": {
        "colab": {
          "base_uri": "https://localhost:8080/"
        },
        "id": "RulCS_rrtANW",
        "outputId": "1b53bd87-cf1e-46ed-9215-be77092af087"
      },
      "execution_count": null,
      "outputs": [
        {
          "output_type": "stream",
          "name": "stderr",
          "text": [
            "/usr/local/lib/python3.10/dist-packages/statsmodels/tsa/base/tsa_model.py:834: ValueWarning: No supported index is available. Prediction results will be given with an integer index beginning at `start`.\n",
            "  return get_prediction_index(\n"
          ]
        }
      ]
    },
    {
      "cell_type": "code",
      "source": [
        "import matplotlib.pyplot as plt\n",
        "training['ANTAL_01'].astype(float)['2020-01-01':].plot(figsize=(12, 8), label='Training')\n",
        "testing['ANTAL_01'].astype(float).plot(label='Testing')\n",
        "pred.index = testing.index\n",
        "pred.plot(label='Predictions')\n",
        "plt.title('SARIMAX modelio su dalinės autokoreliacijos funkcija prognozės standartizuotiems duomenims')\n",
        "plt.legend()"
      ],
      "metadata": {
        "colab": {
          "base_uri": "https://localhost:8080/",
          "height": 690
        },
        "id": "eNPc0Os2tC3o",
        "outputId": "1fbcaf11-9c7e-42ed-abda-be4efac71d66"
      },
      "execution_count": null,
      "outputs": [
        {
          "output_type": "execute_result",
          "data": {
            "text/plain": [
              "<matplotlib.legend.Legend at 0x7fcd1414d450>"
            ]
          },
          "metadata": {},
          "execution_count": 16
        },
        {
          "output_type": "display_data",
          "data": {
            "text/plain": [
              "<Figure size 1200x800 with 1 Axes>"
            ],
            "image/png": "[encoded data removed]"
          },
          "metadata": {}
        }
      ]
    },
    {
      "cell_type": "code",
      "source": [
        "pred, testing['ANTAL_01']"
      ],
      "metadata": {
        "colab": {
          "base_uri": "https://localhost:8080/"
        },
        "id": "QYgVWCFVtFRI",
        "outputId": "42f4dc18-56fb-4dd7-e781-d59c4c7459c1"
      },
      "execution_count": null,
      "outputs": [
        {
          "output_type": "execute_result",
          "data": {
            "text/plain": [
              "(DT\n",
              " 2022-11-30   -1.997077\n",
              " 2022-12-01   -1.929142\n",
              " 2022-12-02   -1.939678\n",
              " 2022-12-05   -1.999023\n",
              " 2022-12-06   -2.029594\n",
              " 2022-12-07   -2.027108\n",
              " 2022-12-08   -2.012009\n",
              " 2022-12-09   -2.007376\n",
              " 2022-12-12   -1.993750\n",
              " 2022-12-13   -1.981211\n",
              " 2022-12-14   -1.981862\n",
              " 2022-12-15   -1.962587\n",
              " 2022-12-16   -1.957076\n",
              " 2022-12-19   -1.944564\n",
              " 2022-12-20   -1.931094\n",
              " 2022-12-21   -1.923951\n",
              " Name: predicted_mean, dtype: float64,\n",
              " DT\n",
              " 2022-11-30   -1.831281\n",
              " 2022-12-01   -1.764551\n",
              " 2022-12-02   -1.786864\n",
              " 2022-12-05   -2.105988\n",
              " 2022-12-06   -2.139458\n",
              " 2022-12-07   -2.171665\n",
              " 2022-12-08   -2.200083\n",
              " 2022-12-09   -2.202398\n",
              " 2022-12-12   -2.224501\n",
              " 2022-12-13   -2.237553\n",
              " 2022-12-14   -2.258182\n",
              " 2022-12-15   -2.236921\n",
              " 2022-12-16   -2.251025\n",
              " 2022-12-19   -2.263865\n",
              " 2022-12-20   -2.270391\n",
              " 2022-12-21   -2.276917\n",
              " Name: ANTAL_01, dtype: float64)"
            ]
          },
          "metadata": {},
          "execution_count": 17
        }
      ]
    },
    {
      "cell_type": "code",
      "source": [
        "predictions = pred"
      ],
      "metadata": {
        "id": "e_WIRIFItIaX"
      },
      "execution_count": null,
      "outputs": []
    },
    {
      "cell_type": "code",
      "source": [
        "# inverse transform and print the first 5 rows\n",
        "normalized_predictions = predictions.values.reshape((len(predictions.values), 1))\n",
        "print(normalized_predictions)\n",
        "inversed = scaler.inverse_transform(normalized_predictions)\n",
        "print(inversed)"
      ],
      "metadata": {
        "colab": {
          "base_uri": "https://localhost:8080/"
        },
        "id": "T6XiiZPAtJHy",
        "outputId": "b3a01e6d-6100-4e1f-a0e6-be32b69a2d9f"
      },
      "execution_count": null,
      "outputs": [
        {
          "output_type": "stream",
          "name": "stdout",
          "text": [
            "[[-1.99707745]\n",
            " [-1.92914239]\n",
            " [-1.93967781]\n",
            " [-1.99902304]\n",
            " [-2.02959425]\n",
            " [-2.02710831]\n",
            " [-2.01200869]\n",
            " [-2.00737634]\n",
            " [-1.99374977]\n",
            " [-1.98121108]\n",
            " [-1.98186193]\n",
            " [-1.96258738]\n",
            " [-1.95707577]\n",
            " [-1.94456397]\n",
            " [-1.93109372]\n",
            " [-1.92395075]]\n",
            "[[31419.38009235]\n",
            " [31742.10652693]\n",
            " [31692.05787211]\n",
            " [31410.1375202 ]\n",
            " [31264.90858243]\n",
            " [31276.71806978]\n",
            " [31348.44904164]\n",
            " [31370.45507877]\n",
            " [31435.18830006]\n",
            " [31494.75350855]\n",
            " [31491.6616188 ]\n",
            " [31583.22562144]\n",
            " [31609.4086177 ]\n",
            " [31668.84611939]\n",
            " [31732.83668837]\n",
            " [31766.76949062]]\n"
          ]
        }
      ]
    }
  ]
}
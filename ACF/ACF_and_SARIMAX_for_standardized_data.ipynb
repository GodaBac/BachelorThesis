{
  "nbformat": 4,
  "nbformat_minor": 0,
  "metadata": {
    "colab": {
      "provenance": [],
      "authorship_tag": "ABX9TyNyaZ/dC9O7SZb89zeWI/Nf",
      "include_colab_link": true
    },
    "kernelspec": {
      "name": "python3",
      "display_name": "Python 3"
    },
    "language_info": {
      "name": "python"
    }
  },
  "cells": [
    {
      "cell_type": "markdown",
      "metadata": {
        "id": "view-in-github",
        "colab_type": "text"
      },
      "source": [
        "<a href=\"https://colab.research.google.com/github/GodaBac/BachelorThesis/blob/main/ACF/ACF_and_SARIMAX_for_standardized_data.ipynb\" target=\"_parent\"><img src=\"https://colab.research.google.com/assets/colab-badge.svg\" alt=\"Open In Colab\"/></a>"
      ]
    },
    {
      "cell_type": "code",
      "execution_count": null,
      "metadata": {
        "id": "55TbcoqTitWU"
      },
      "outputs": [],
      "source": [
        "import pandas as pd\n",
        "import numpy as np\n",
        "import statsmodels.api as sm\n",
        "import matplotlib.pyplot as plt"
      ]
    },
    {
      "cell_type": "code",
      "source": [
        "from google.colab import drive\n",
        "drive.mount('/content/drive')"
      ],
      "metadata": {
        "colab": {
          "base_uri": "https://localhost:8080/"
        },
        "id": "mt4djASbi0Kg",
        "outputId": "d4b5d4d4-70e8-463e-bf76-a0560a60fbdc"
      },
      "execution_count": null,
      "outputs": [
        {
          "output_type": "stream",
          "name": "stdout",
          "text": [
            "Mounted at /content/drive\n"
          ]
        }
      ]
    },
    {
      "cell_type": "code",
      "source": [
        "import csv\n",
        "from datetime import datetime\n",
        "\n",
        "input_file_path = '/content/drive/MyDrive/Bakalauras/duomenys.csv'\n",
        "\n",
        "# Open the input CSV file\n",
        "with open(input_file_path, 'r') as input_file:\n",
        "    reader = csv.reader(input_file)\n",
        "\n",
        "    value_names = next(reader)\n",
        "\n",
        "    # Create an empty list to store the updated rows\n",
        "    updated_rows = []\n",
        "\n",
        "    # Loop through each row in the input file\n",
        "    for row in reader:\n",
        "         # Try to parse the date string as a datetime object\n",
        "        try:\n",
        "            date_str = row[0]\n",
        "            date_obj = datetime.strptime(date_str, '%d-%m-%Y')\n",
        "        except ValueError:\n",
        "            # If the date string is not in the expected format, skip this row\n",
        "            continue\n",
        "\n",
        "        # Format the date object as a string in the new format\n",
        "        new_date_str = date_obj.strftime('%Y-%m-%d')\n",
        "\n",
        "        # Update the date value in the row\n",
        "        row[0] = new_date_str\n",
        "        # Append the updated row to the list of updated rows\n",
        "        updated_rows.append(row)\n",
        "\n",
        "# Convert the list of updated rows to a dataframe\n",
        "df = pd.DataFrame(updated_rows, columns=value_names)"
      ],
      "metadata": {
        "id": "SDF30cJZi2Q-"
      },
      "execution_count": null,
      "outputs": []
    },
    {
      "cell_type": "code",
      "source": [
        "# Convert the date column to a datetime object\n",
        "df['DT'] = pd.to_datetime(df['DT'], format='%Y-%m-%d')\n",
        "\n",
        "# Set the date column as the index of the dataframe\n",
        "df.set_index('DT', inplace=True)\n",
        "df['ANTAL_01'] = df['ANTAL_01'].astype(int)\n",
        "df = df.iloc[::-1]"
      ],
      "metadata": {
        "id": "z00VPiSZi2og"
      },
      "execution_count": null,
      "outputs": []
    },
    {
      "cell_type": "code",
      "source": [
        "from sklearn.preprocessing import StandardScaler\n",
        "from math import sqrt\n",
        "# prepare data for standardization\n",
        "values = df.values\n",
        "print(values)\n",
        "values = values.reshape((len(values), 1))\n",
        "# train the standardization\n",
        "scaler = StandardScaler()\n",
        "scaler = scaler.fit(values)\n",
        "print('Mean: %f, StandardDeviation: %f' % (scaler.mean_, sqrt(scaler.var_)))\n",
        "# standardization the dataset and print the first 5 rows\n",
        "normalized = scaler.transform(values)\n",
        "for i in range(5):\n",
        " print(normalized[i])\n",
        "# inverse transform and print the first 5 rows\n",
        "inversed = scaler.inverse_transform(normalized)\n",
        "for i in range(5):\n",
        " print(inversed[i])\n",
        "df['ANTAL_01'] = normalized\n",
        "print(df)"
      ],
      "metadata": {
        "colab": {
          "base_uri": "https://localhost:8080/"
        },
        "id": "p2RjPtVXi47-",
        "outputId": "7d496f14-97aa-4e83-d856-c9d9119aabef"
      },
      "execution_count": null,
      "outputs": [
        {
          "output_type": "stream",
          "name": "stdout",
          "text": [
            "[[46084]\n",
            " [46026]\n",
            " [46108]\n",
            " ...\n",
            " [30152]\n",
            " [30121]\n",
            " [30090]]\n",
            "Mean: 40906.524202, StandardDeviation: 4750.513865\n",
            "[1.089877]\n",
            "[1.07766779]\n",
            "[1.09492908]\n",
            "[1.07114218]\n",
            "[1.06251154]\n",
            "[46084.]\n",
            "[46026.]\n",
            "[46108.]\n",
            "[45995.]\n",
            "[45954.]\n",
            "            ANTAL_01\n",
            "DT                  \n",
            "2015-12-31  1.089877\n",
            "2016-01-04  1.077668\n",
            "2016-01-05  1.094929\n",
            "2016-01-06  1.071142\n",
            "2016-01-07  1.062512\n",
            "...              ...\n",
            "2022-12-15 -2.236921\n",
            "2022-12-16 -2.251025\n",
            "2022-12-19 -2.263865\n",
            "2022-12-20 -2.270391\n",
            "2022-12-21 -2.276917\n",
            "\n",
            "[1818 rows x 1 columns]\n"
          ]
        }
      ]
    },
    {
      "cell_type": "code",
      "source": [
        "#training and test\n",
        "training = df.iloc[:-16,:]\n",
        "print(training.index)\n",
        "testing = df.iloc[-16:, :]\n",
        "training.head()"
      ],
      "metadata": {
        "colab": {
          "base_uri": "https://localhost:8080/",
          "height": 376
        },
        "id": "7aKzrzZRjA0z",
        "outputId": "eabe759a-c908-4daf-8acd-ea3b988429c5"
      },
      "execution_count": null,
      "outputs": [
        {
          "output_type": "stream",
          "name": "stdout",
          "text": [
            "DatetimeIndex(['2015-12-31', '2016-01-04', '2016-01-05', '2016-01-06',\n",
            "               '2016-01-07', '2016-01-08', '2016-01-11', '2016-01-12',\n",
            "               '2016-01-13', '2016-01-14',\n",
            "               ...\n",
            "               '2022-11-16', '2022-11-17', '2022-11-18', '2022-11-21',\n",
            "               '2022-11-22', '2022-11-23', '2022-11-24', '2022-11-25',\n",
            "               '2022-11-28', '2022-11-29'],\n",
            "              dtype='datetime64[ns]', name='DT', length=1802, freq=None)\n"
          ]
        },
        {
          "output_type": "execute_result",
          "data": {
            "text/plain": [
              "            ANTAL_01\n",
              "DT                  \n",
              "2015-12-31  1.089877\n",
              "2016-01-04  1.077668\n",
              "2016-01-05  1.094929\n",
              "2016-01-06  1.071142\n",
              "2016-01-07  1.062512"
            ],
            "text/html": [
              "\n",
              "  <div id=\"df-c8211774-40d3-4754-9406-8e20ca751d0e\">\n",
              "    <div class=\"colab-df-container\">\n",
              "      <div>\n",
              "<style scoped>\n",
              "    .dataframe tbody tr th:only-of-type {\n",
              "        vertical-align: middle;\n",
              "    }\n",
              "\n",
              "    .dataframe tbody tr th {\n",
              "        vertical-align: top;\n",
              "    }\n",
              "\n",
              "    .dataframe thead th {\n",
              "        text-align: right;\n",
              "    }\n",
              "</style>\n",
              "<table border=\"1\" class=\"dataframe\">\n",
              "  <thead>\n",
              "    <tr style=\"text-align: right;\">\n",
              "      <th></th>\n",
              "      <th>ANTAL_01</th>\n",
              "    </tr>\n",
              "    <tr>\n",
              "      <th>DT</th>\n",
              "      <th></th>\n",
              "    </tr>\n",
              "  </thead>\n",
              "  <tbody>\n",
              "    <tr>\n",
              "      <th>2015-12-31</th>\n",
              "      <td>1.089877</td>\n",
              "    </tr>\n",
              "    <tr>\n",
              "      <th>2016-01-04</th>\n",
              "      <td>1.077668</td>\n",
              "    </tr>\n",
              "    <tr>\n",
              "      <th>2016-01-05</th>\n",
              "      <td>1.094929</td>\n",
              "    </tr>\n",
              "    <tr>\n",
              "      <th>2016-01-06</th>\n",
              "      <td>1.071142</td>\n",
              "    </tr>\n",
              "    <tr>\n",
              "      <th>2016-01-07</th>\n",
              "      <td>1.062512</td>\n",
              "    </tr>\n",
              "  </tbody>\n",
              "</table>\n",
              "</div>\n",
              "      <button class=\"colab-df-convert\" onclick=\"convertToInteractive('df-c8211774-40d3-4754-9406-8e20ca751d0e')\"\n",
              "              title=\"Convert this dataframe to an interactive table.\"\n",
              "              style=\"display:none;\">\n",
              "        \n",
              "  <svg xmlns=\"http://www.w3.org/2000/svg\" height=\"24px\"viewBox=\"0 0 24 24\"\n",
              "       width=\"24px\">\n",
              "    <path d=\"M0 0h24v24H0V0z\" fill=\"none\"/>\n",
              "    <path d=\"M18.56 5.44l.94 2.06.94-2.06 2.06-.94-2.06-.94-.94-2.06-.94 2.06-2.06.94zm-11 1L8.5 8.5l.94-2.06 2.06-.94-2.06-.94L8.5 2.5l-.94 2.06-2.06.94zm10 10l.94 2.06.94-2.06 2.06-.94-2.06-.94-.94-2.06-.94 2.06-2.06.94z\"/><path d=\"M17.41 7.96l-1.37-1.37c-.4-.4-.92-.59-1.43-.59-.52 0-1.04.2-1.43.59L10.3 9.45l-7.72 7.72c-.78.78-.78 2.05 0 2.83L4 21.41c.39.39.9.59 1.41.59.51 0 1.02-.2 1.41-.59l7.78-7.78 2.81-2.81c.8-.78.8-2.07 0-2.86zM5.41 20L4 18.59l7.72-7.72 1.47 1.35L5.41 20z\"/>\n",
              "  </svg>\n",
              "      </button>\n",
              "      \n",
              "  <style>\n",
              "    .colab-df-container {\n",
              "      display:flex;\n",
              "      flex-wrap:wrap;\n",
              "      gap: 12px;\n",
              "    }\n",
              "\n",
              "    .colab-df-convert {\n",
              "      background-color: #E8F0FE;\n",
              "      border: none;\n",
              "      border-radius: 50%;\n",
              "      cursor: pointer;\n",
              "      display: none;\n",
              "      fill: #1967D2;\n",
              "      height: 32px;\n",
              "      padding: 0 0 0 0;\n",
              "      width: 32px;\n",
              "    }\n",
              "\n",
              "    .colab-df-convert:hover {\n",
              "      background-color: #E2EBFA;\n",
              "      box-shadow: 0px 1px 2px rgba(60, 64, 67, 0.3), 0px 1px 3px 1px rgba(60, 64, 67, 0.15);\n",
              "      fill: #174EA6;\n",
              "    }\n",
              "\n",
              "    [theme=dark] .colab-df-convert {\n",
              "      background-color: #3B4455;\n",
              "      fill: #D2E3FC;\n",
              "    }\n",
              "\n",
              "    [theme=dark] .colab-df-convert:hover {\n",
              "      background-color: #434B5C;\n",
              "      box-shadow: 0px 1px 3px 1px rgba(0, 0, 0, 0.15);\n",
              "      filter: drop-shadow(0px 1px 2px rgba(0, 0, 0, 0.3));\n",
              "      fill: #FFFFFF;\n",
              "    }\n",
              "  </style>\n",
              "\n",
              "      <script>\n",
              "        const buttonEl =\n",
              "          document.querySelector('#df-c8211774-40d3-4754-9406-8e20ca751d0e button.colab-df-convert');\n",
              "        buttonEl.style.display =\n",
              "          google.colab.kernel.accessAllowed ? 'block' : 'none';\n",
              "\n",
              "        async function convertToInteractive(key) {\n",
              "          const element = document.querySelector('#df-c8211774-40d3-4754-9406-8e20ca751d0e');\n",
              "          const dataTable =\n",
              "            await google.colab.kernel.invokeFunction('convertToInteractive',\n",
              "                                                     [key], {});\n",
              "          if (!dataTable) return;\n",
              "\n",
              "          const docLinkHtml = 'Like what you see? Visit the ' +\n",
              "            '<a target=\"_blank\" href=https://colab.research.google.com/notebooks/data_table.ipynb>data table notebook</a>'\n",
              "            + ' to learn more about interactive tables.';\n",
              "          element.innerHTML = '';\n",
              "          dataTable['output_type'] = 'display_data';\n",
              "          await google.colab.output.renderOutput(dataTable, element);\n",
              "          const docLink = document.createElement('div');\n",
              "          docLink.innerHTML = docLinkHtml;\n",
              "          element.appendChild(docLink);\n",
              "        }\n",
              "      </script>\n",
              "    </div>\n",
              "  </div>\n",
              "  "
            ]
          },
          "metadata": {},
          "execution_count": 6
        }
      ]
    },
    {
      "cell_type": "code",
      "source": [
        "# calculate ACF on the whole dataset\n",
        "acf = sm.tsa.acf(training.dropna(), nlags=len(training)-1)"
      ],
      "metadata": {
        "id": "tlih5KkojExg"
      },
      "execution_count": null,
      "outputs": []
    },
    {
      "cell_type": "code",
      "source": [
        "from statsmodels.graphics.tsaplots import plot_acf\n",
        "plot_acf(training.dropna(), lags = 250) "
      ],
      "metadata": {
        "colab": {
          "base_uri": "https://localhost:8080/",
          "height": 887
        },
        "id": "Y24CGx_YjGwL",
        "outputId": "4e0efd9c-c943-45bc-814f-7f431d88a3ad"
      },
      "execution_count": null,
      "outputs": [
        {
          "output_type": "execute_result",
          "data": {
            "text/plain": [
              "<Figure size 640x480 with 1 Axes>"
            ],
            "image/png": "[encoded data removed]"
          },
          "metadata": {},
          "execution_count": 8
        },
        {
          "output_type": "display_data",
          "data": {
            "text/plain": [
              "<Figure size 640x480 with 1 Axes>"
            ],
            "image/png": "[encoded data removed]"
          },
          "metadata": {}
        }
      ]
    },
    {
      "cell_type": "code",
      "source": [
        "training = training.dropna()\n",
        "testing = testing.dropna()"
      ],
      "metadata": {
        "id": "pplAlByNjYDd"
      },
      "execution_count": null,
      "outputs": []
    },
    {
      "cell_type": "code",
      "source": [
        "# create a DataFrame with the repeated ACF values as a column\n",
        "exog = pd.DataFrame({'acf': acf}, index=training.index)"
      ],
      "metadata": {
        "id": "Tb9gFay6jdGq"
      },
      "execution_count": null,
      "outputs": []
    },
    {
      "cell_type": "code",
      "source": [
        "# drop any rows with missing values from the exog dataframe\n",
        "exog = exog.dropna()"
      ],
      "metadata": {
        "id": "3UnASCA8jfSQ"
      },
      "execution_count": null,
      "outputs": []
    },
    {
      "cell_type": "code",
      "source": [
        "np.asarray(training)"
      ],
      "metadata": {
        "colab": {
          "base_uri": "https://localhost:8080/"
        },
        "id": "TNJE0BHrjgv4",
        "outputId": "6edc835a-827f-4cf8-c847-b029ba5707be"
      },
      "execution_count": null,
      "outputs": [
        {
          "output_type": "execute_result",
          "data": {
            "text/plain": [
              "array([[ 1.089877  ],\n",
              "       [ 1.07766779],\n",
              "       [ 1.09492908],\n",
              "       ...,\n",
              "       [-2.0710442 ],\n",
              "       [-2.07399125],\n",
              "       [-2.10514578]])"
            ]
          },
          "metadata": {},
          "execution_count": 12
        }
      ]
    },
    {
      "cell_type": "code",
      "source": [
        "# fit SARIMAX model with exogenous variable\n",
        "model = sm.tsa.SARIMAX(training['ANTAL_01'].astype(float), exog=np.asarray(exog), order=(1,1,1), seasonal_order=(1,0,1,22))\n",
        "result = model.fit()"
      ],
      "metadata": {
        "colab": {
          "base_uri": "https://localhost:8080/"
        },
        "id": "hLMJQYkCji2v",
        "outputId": "a036135c-32f6-4c39-9a08-f0eb3048aae2"
      },
      "execution_count": null,
      "outputs": [
        {
          "output_type": "stream",
          "name": "stderr",
          "text": [
            "/usr/local/lib/python3.10/dist-packages/statsmodels/tsa/base/tsa_model.py:471: ValueWarning: A date index has been provided, but it has no associated frequency information and so will be ignored when e.g. forecasting.\n",
            "  self._init_dates(dates, freq)\n",
            "/usr/local/lib/python3.10/dist-packages/statsmodels/tsa/base/tsa_model.py:471: ValueWarning: A date index has been provided, but it has no associated frequency information and so will be ignored when e.g. forecasting.\n",
            "  self._init_dates(dates, freq)\n",
            "/usr/local/lib/python3.10/dist-packages/statsmodels/tsa/statespace/sarimax.py:966: UserWarning: Non-stationary starting autoregressive parameters found. Using zeros as starting parameters.\n",
            "  warn('Non-stationary starting autoregressive parameters'\n",
            "/usr/local/lib/python3.10/dist-packages/statsmodels/tsa/statespace/sarimax.py:978: UserWarning: Non-invertible starting MA parameters found. Using zeros as starting parameters.\n",
            "  warn('Non-invertible starting MA parameters found.'\n",
            "/usr/local/lib/python3.10/dist-packages/statsmodels/base/model.py:604: ConvergenceWarning: Maximum Likelihood optimization failed to converge. Check mle_retvals\n",
            "  warnings.warn(\"Maximum Likelihood optimization failed to \"\n"
          ]
        }
      ]
    },
    {
      "cell_type": "code",
      "source": [
        "exogTest = exog.tail(22)\n",
        "exogTest2 = exogTest.head(len(testing))\n",
        "exogTest2\n",
        "exogvar = np.asarray(exogTest2['acf'])\n",
        "exogvar = np.asarray(exogTest2['acf'])\n",
        "# make predictions with the fitted model and exogenous variables for test dataset\n",
        "test_exog = pd.DataFrame({'acf': exogvar}, index=testing.index)\n",
        "test_exog"
      ],
      "metadata": {
        "colab": {
          "base_uri": "https://localhost:8080/",
          "height": 582
        },
        "id": "MZUlXvUajlEw",
        "outputId": "9ff15b5c-957e-4a9e-df29-33dd755ffb52"
      },
      "execution_count": null,
      "outputs": [
        {
          "output_type": "execute_result",
          "data": {
            "text/plain": [
              "                 acf\n",
              "DT                  \n",
              "2022-11-30 -0.020030\n",
              "2022-12-01 -0.019679\n",
              "2022-12-02 -0.019436\n",
              "2022-12-05 -0.019122\n",
              "2022-12-06 -0.018554\n",
              "2022-12-07 -0.017946\n",
              "2022-12-08 -0.017262\n",
              "2022-12-09 -0.016536\n",
              "2022-12-12 -0.015746\n",
              "2022-12-13 -0.014903\n",
              "2022-12-14 -0.014024\n",
              "2022-12-15 -0.013078\n",
              "2022-12-16 -0.012059\n",
              "2022-12-19 -0.011027\n",
              "2022-12-20 -0.009927\n",
              "2022-12-21 -0.008786"
            ],
            "text/html": [
              "\n",
              "  <div id=\"df-1f51df2b-7c44-4dcf-9599-092dabf0390d\">\n",
              "    <div class=\"colab-df-container\">\n",
              "      <div>\n",
              "<style scoped>\n",
              "    .dataframe tbody tr th:only-of-type {\n",
              "        vertical-align: middle;\n",
              "    }\n",
              "\n",
              "    .dataframe tbody tr th {\n",
              "        vertical-align: top;\n",
              "    }\n",
              "\n",
              "    .dataframe thead th {\n",
              "        text-align: right;\n",
              "    }\n",
              "</style>\n",
              "<table border=\"1\" class=\"dataframe\">\n",
              "  <thead>\n",
              "    <tr style=\"text-align: right;\">\n",
              "      <th></th>\n",
              "      <th>acf</th>\n",
              "    </tr>\n",
              "    <tr>\n",
              "      <th>DT</th>\n",
              "      <th></th>\n",
              "    </tr>\n",
              "  </thead>\n",
              "  <tbody>\n",
              "    <tr>\n",
              "      <th>2022-11-30</th>\n",
              "      <td>-0.020030</td>\n",
              "    </tr>\n",
              "    <tr>\n",
              "      <th>2022-12-01</th>\n",
              "      <td>-0.019679</td>\n",
              "    </tr>\n",
              "    <tr>\n",
              "      <th>2022-12-02</th>\n",
              "      <td>-0.019436</td>\n",
              "    </tr>\n",
              "    <tr>\n",
              "      <th>2022-12-05</th>\n",
              "      <td>-0.019122</td>\n",
              "    </tr>\n",
              "    <tr>\n",
              "      <th>2022-12-06</th>\n",
              "      <td>-0.018554</td>\n",
              "    </tr>\n",
              "    <tr>\n",
              "      <th>2022-12-07</th>\n",
              "      <td>-0.017946</td>\n",
              "    </tr>\n",
              "    <tr>\n",
              "      <th>2022-12-08</th>\n",
              "      <td>-0.017262</td>\n",
              "    </tr>\n",
              "    <tr>\n",
              "      <th>2022-12-09</th>\n",
              "      <td>-0.016536</td>\n",
              "    </tr>\n",
              "    <tr>\n",
              "      <th>2022-12-12</th>\n",
              "      <td>-0.015746</td>\n",
              "    </tr>\n",
              "    <tr>\n",
              "      <th>2022-12-13</th>\n",
              "      <td>-0.014903</td>\n",
              "    </tr>\n",
              "    <tr>\n",
              "      <th>2022-12-14</th>\n",
              "      <td>-0.014024</td>\n",
              "    </tr>\n",
              "    <tr>\n",
              "      <th>2022-12-15</th>\n",
              "      <td>-0.013078</td>\n",
              "    </tr>\n",
              "    <tr>\n",
              "      <th>2022-12-16</th>\n",
              "      <td>-0.012059</td>\n",
              "    </tr>\n",
              "    <tr>\n",
              "      <th>2022-12-19</th>\n",
              "      <td>-0.011027</td>\n",
              "    </tr>\n",
              "    <tr>\n",
              "      <th>2022-12-20</th>\n",
              "      <td>-0.009927</td>\n",
              "    </tr>\n",
              "    <tr>\n",
              "      <th>2022-12-21</th>\n",
              "      <td>-0.008786</td>\n",
              "    </tr>\n",
              "  </tbody>\n",
              "</table>\n",
              "</div>\n",
              "      <button class=\"colab-df-convert\" onclick=\"convertToInteractive('df-1f51df2b-7c44-4dcf-9599-092dabf0390d')\"\n",
              "              title=\"Convert this dataframe to an interactive table.\"\n",
              "              style=\"display:none;\">\n",
              "        \n",
              "  <svg xmlns=\"http://www.w3.org/2000/svg\" height=\"24px\"viewBox=\"0 0 24 24\"\n",
              "       width=\"24px\">\n",
              "    <path d=\"M0 0h24v24H0V0z\" fill=\"none\"/>\n",
              "    <path d=\"M18.56 5.44l.94 2.06.94-2.06 2.06-.94-2.06-.94-.94-2.06-.94 2.06-2.06.94zm-11 1L8.5 8.5l.94-2.06 2.06-.94-2.06-.94L8.5 2.5l-.94 2.06-2.06.94zm10 10l.94 2.06.94-2.06 2.06-.94-2.06-.94-.94-2.06-.94 2.06-2.06.94z\"/><path d=\"M17.41 7.96l-1.37-1.37c-.4-.4-.92-.59-1.43-.59-.52 0-1.04.2-1.43.59L10.3 9.45l-7.72 7.72c-.78.78-.78 2.05 0 2.83L4 21.41c.39.39.9.59 1.41.59.51 0 1.02-.2 1.41-.59l7.78-7.78 2.81-2.81c.8-.78.8-2.07 0-2.86zM5.41 20L4 18.59l7.72-7.72 1.47 1.35L5.41 20z\"/>\n",
              "  </svg>\n",
              "      </button>\n",
              "      \n",
              "  <style>\n",
              "    .colab-df-container {\n",
              "      display:flex;\n",
              "      flex-wrap:wrap;\n",
              "      gap: 12px;\n",
              "    }\n",
              "\n",
              "    .colab-df-convert {\n",
              "      background-color: #E8F0FE;\n",
              "      border: none;\n",
              "      border-radius: 50%;\n",
              "      cursor: pointer;\n",
              "      display: none;\n",
              "      fill: #1967D2;\n",
              "      height: 32px;\n",
              "      padding: 0 0 0 0;\n",
              "      width: 32px;\n",
              "    }\n",
              "\n",
              "    .colab-df-convert:hover {\n",
              "      background-color: #E2EBFA;\n",
              "      box-shadow: 0px 1px 2px rgba(60, 64, 67, 0.3), 0px 1px 3px 1px rgba(60, 64, 67, 0.15);\n",
              "      fill: #174EA6;\n",
              "    }\n",
              "\n",
              "    [theme=dark] .colab-df-convert {\n",
              "      background-color: #3B4455;\n",
              "      fill: #D2E3FC;\n",
              "    }\n",
              "\n",
              "    [theme=dark] .colab-df-convert:hover {\n",
              "      background-color: #434B5C;\n",
              "      box-shadow: 0px 1px 3px 1px rgba(0, 0, 0, 0.15);\n",
              "      filter: drop-shadow(0px 1px 2px rgba(0, 0, 0, 0.3));\n",
              "      fill: #FFFFFF;\n",
              "    }\n",
              "  </style>\n",
              "\n",
              "      <script>\n",
              "        const buttonEl =\n",
              "          document.querySelector('#df-1f51df2b-7c44-4dcf-9599-092dabf0390d button.colab-df-convert');\n",
              "        buttonEl.style.display =\n",
              "          google.colab.kernel.accessAllowed ? 'block' : 'none';\n",
              "\n",
              "        async function convertToInteractive(key) {\n",
              "          const element = document.querySelector('#df-1f51df2b-7c44-4dcf-9599-092dabf0390d');\n",
              "          const dataTable =\n",
              "            await google.colab.kernel.invokeFunction('convertToInteractive',\n",
              "                                                     [key], {});\n",
              "          if (!dataTable) return;\n",
              "\n",
              "          const docLinkHtml = 'Like what you see? Visit the ' +\n",
              "            '<a target=\"_blank\" href=https://colab.research.google.com/notebooks/data_table.ipynb>data table notebook</a>'\n",
              "            + ' to learn more about interactive tables.';\n",
              "          element.innerHTML = '';\n",
              "          dataTable['output_type'] = 'display_data';\n",
              "          await google.colab.output.renderOutput(dataTable, element);\n",
              "          const docLink = document.createElement('div');\n",
              "          docLink.innerHTML = docLinkHtml;\n",
              "          element.appendChild(docLink);\n",
              "        }\n",
              "      </script>\n",
              "    </div>\n",
              "  </div>\n",
              "  "
            ]
          },
          "metadata": {},
          "execution_count": 14
        }
      ]
    },
    {
      "cell_type": "code",
      "source": [
        "# predict using SARIMAX model\n",
        "pred = result.predict(start=len(training), end=len(training)+len(testing)-1, exog=test_exog)"
      ],
      "metadata": {
        "colab": {
          "base_uri": "https://localhost:8080/"
        },
        "id": "L33y4YZqjnc_",
        "outputId": "cb9a5bcf-da86-4bb4-d583-6b6d2aef83c8"
      },
      "execution_count": null,
      "outputs": [
        {
          "output_type": "stream",
          "name": "stderr",
          "text": [
            "/usr/local/lib/python3.10/dist-packages/statsmodels/tsa/base/tsa_model.py:834: ValueWarning: No supported index is available. Prediction results will be given with an integer index beginning at `start`.\n",
            "  return get_prediction_index(\n"
          ]
        }
      ]
    },
    {
      "cell_type": "code",
      "source": [
        "import matplotlib.pyplot as plt\n",
        "training['ANTAL_01'].astype(float)['2020-01-01':].plot(figsize=(12, 8), label='Training')\n",
        "testing['ANTAL_01'].astype(float).plot(label='Testing')\n",
        "pred.index = testing.index\n",
        "pred.plot(label='Predictions')\n",
        "plt.title('SARIMAX modelio su autokoreliacijos funkcija prognozės standartizuotiems duomenims')\n",
        "plt.legend()"
      ],
      "metadata": {
        "colab": {
          "base_uri": "https://localhost:8080/",
          "height": 690
        },
        "id": "UEKqJSx-jp_2",
        "outputId": "ef145a6e-6853-4848-feb3-8d3c0b6dfbf4"
      },
      "execution_count": null,
      "outputs": [
        {
          "output_type": "execute_result",
          "data": {
            "text/plain": [
              "<matplotlib.legend.Legend at 0x7f736ac0c8b0>"
            ]
          },
          "metadata": {},
          "execution_count": 16
        },
        {
          "output_type": "display_data",
          "data": {
            "text/plain": [
              "<Figure size 1200x800 with 1 Axes>"
            ],
            "image/png": "[encoded data removed]"
          },
          "metadata": {}
        }
      ]
    },
    {
      "cell_type": "code",
      "source": [
        "predictions = pred"
      ],
      "metadata": {
        "id": "5fsZheVyj00t"
      },
      "execution_count": null,
      "outputs": []
    },
    {
      "cell_type": "code",
      "source": [
        "# inverse transform and print the first 5 rows\n",
        "normalized_predictions = predictions.values.reshape((len(predictions.values), 1))\n",
        "print(normalized_predictions)\n",
        "inversed = scaler.inverse_transform(normalized_predictions)\n",
        "print(inversed)"
      ],
      "metadata": {
        "colab": {
          "base_uri": "https://localhost:8080/"
        },
        "id": "2ZiSeJZuj293",
        "outputId": "36e89a08-5527-4955-bda8-171a1562191b"
      },
      "execution_count": null,
      "outputs": [
        {
          "output_type": "stream",
          "name": "stdout",
          "text": [
            "[[-2.13083683]\n",
            " [-2.07206808]\n",
            " [-2.09216013]\n",
            " [-2.15886995]\n",
            " [-2.20018305]\n",
            " [-2.21038728]\n",
            " [-2.20954971]\n",
            " [-2.21858326]\n",
            " [-2.21868229]\n",
            " [-2.2199383 ]\n",
            " [-2.23259266]\n",
            " [-2.22668181]\n",
            " [-2.23232083]\n",
            " [-2.23242323]\n",
            " [-2.23028822]\n",
            " [-2.23324325]]\n",
            "[[30783.95431621]\n",
            " [31063.13608023]\n",
            " [30967.68849878]\n",
            " [30650.78256484]\n",
            " [30454.52411403]\n",
            " [30406.04880532]\n",
            " [30410.02768375]\n",
            " [30367.11365187]\n",
            " [30366.64323724]\n",
            " [30360.67652971]\n",
            " [30300.56182104]\n",
            " [30328.64139345]\n",
            " [30301.85316646]\n",
            " [30301.36668292]\n",
            " [30311.50907234]\n",
            " [30297.47117916]]\n"
          ]
        }
      ]
    }
  ]
}
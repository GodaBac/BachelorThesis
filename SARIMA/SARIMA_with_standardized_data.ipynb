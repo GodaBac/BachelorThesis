{
  "nbformat": 4,
  "nbformat_minor": 0,
  "metadata": {
    "colab": {
      "provenance": [],
      "authorship_tag": "ABX9TyN4UIy2t36M36C0UwyxcQc/",
      "include_colab_link": true
    },
    "kernelspec": {
      "name": "python3",
      "display_name": "Python 3"
    },
    "language_info": {
      "name": "python"
    }
  },
  "cells": [
    {
      "cell_type": "markdown",
      "metadata": {
        "id": "view-in-github",
        "colab_type": "text"
      },
      "source": [
        "<a href=\"https://colab.research.google.com/github/GodaBac/BachelorThesis/blob/main/SARIMA/SARIMA_with_standardized_data.ipynb\" target=\"_parent\"><img src=\"https://colab.research.google.com/assets/colab-badge.svg\" alt=\"Open In Colab\"/></a>"
      ]
    },
    {
      "cell_type": "code",
      "execution_count": null,
      "metadata": {
        "colab": {
          "base_uri": "https://localhost:8080/"
        },
        "id": "JE6HG3UYX_9q",
        "outputId": "caf419a6-05aa-48c0-903a-ad7e2bf289c2"
      },
      "outputs": [
        {
          "output_type": "stream",
          "name": "stdout",
          "text": [
            "Looking in indexes: https://pypi.org/simple, https://us-python.pkg.dev/colab-wheels/public/simple/\n",
            "Collecting pmdarima\n",
            "  Downloading pmdarima-2.0.3-cp310-cp310-manylinux_2_17_x86_64.manylinux2014_x86_64.manylinux_2_28_x86_64.whl (1.8 MB)\n",
            "\u001b[2K     \u001b[90m━━━━━━━━━━━━━━━━━━━━━━━━━━━━━━━━━━━━━━━━\u001b[0m \u001b[32m1.8/1.8 MB\u001b[0m \u001b[31m17.8 MB/s\u001b[0m eta \u001b[36m0:00:00\u001b[0m\n",
            "\u001b[?25hRequirement already satisfied: Cython!=0.29.18,!=0.29.31,>=0.29 in /usr/local/lib/python3.10/dist-packages (from pmdarima) (0.29.34)\n",
            "Requirement already satisfied: pandas>=0.19 in /usr/local/lib/python3.10/dist-packages (from pmdarima) (1.5.3)\n",
            "Requirement already satisfied: setuptools!=50.0.0,>=38.6.0 in /usr/local/lib/python3.10/dist-packages (from pmdarima) (67.7.2)\n",
            "Requirement already satisfied: joblib>=0.11 in /usr/local/lib/python3.10/dist-packages (from pmdarima) (1.2.0)\n",
            "Requirement already satisfied: scipy>=1.3.2 in /usr/local/lib/python3.10/dist-packages (from pmdarima) (1.10.1)\n",
            "Requirement already satisfied: numpy>=1.21.2 in /usr/local/lib/python3.10/dist-packages (from pmdarima) (1.22.4)\n",
            "Requirement already satisfied: scikit-learn>=0.22 in /usr/local/lib/python3.10/dist-packages (from pmdarima) (1.2.2)\n",
            "Requirement already satisfied: urllib3 in /usr/local/lib/python3.10/dist-packages (from pmdarima) (1.26.15)\n",
            "Requirement already satisfied: statsmodels>=0.13.2 in /usr/local/lib/python3.10/dist-packages (from pmdarima) (0.13.5)\n",
            "Requirement already satisfied: pytz>=2020.1 in /usr/local/lib/python3.10/dist-packages (from pandas>=0.19->pmdarima) (2022.7.1)\n",
            "Requirement already satisfied: python-dateutil>=2.8.1 in /usr/local/lib/python3.10/dist-packages (from pandas>=0.19->pmdarima) (2.8.2)\n",
            "Requirement already satisfied: threadpoolctl>=2.0.0 in /usr/local/lib/python3.10/dist-packages (from scikit-learn>=0.22->pmdarima) (3.1.0)\n",
            "Requirement already satisfied: patsy>=0.5.2 in /usr/local/lib/python3.10/dist-packages (from statsmodels>=0.13.2->pmdarima) (0.5.3)\n",
            "Requirement already satisfied: packaging>=21.3 in /usr/local/lib/python3.10/dist-packages (from statsmodels>=0.13.2->pmdarima) (23.1)\n",
            "Requirement already satisfied: six in /usr/local/lib/python3.10/dist-packages (from patsy>=0.5.2->statsmodels>=0.13.2->pmdarima) (1.16.0)\n",
            "Installing collected packages: pmdarima\n",
            "Successfully installed pmdarima-2.0.3\n"
          ]
        }
      ],
      "source": [
        "!pip install pmdarima"
      ]
    },
    {
      "cell_type": "code",
      "source": [
        "import pandas as pd\n",
        "from pmdarima import auto_arima"
      ],
      "metadata": {
        "id": "D2-hlm4wYHCp"
      },
      "execution_count": null,
      "outputs": []
    },
    {
      "cell_type": "code",
      "source": [
        "from google.colab import drive\n",
        "drive.mount('/content/drive')"
      ],
      "metadata": {
        "colab": {
          "base_uri": "https://localhost:8080/"
        },
        "id": "08EBaEFQYJet",
        "outputId": "3c186186-20ff-4a29-b9d5-66cc25ee94fd"
      },
      "execution_count": null,
      "outputs": [
        {
          "output_type": "stream",
          "name": "stdout",
          "text": [
            "Mounted at /content/drive\n"
          ]
        }
      ]
    },
    {
      "cell_type": "code",
      "source": [
        "import csv\n",
        "from datetime import datetime\n",
        "\n",
        "input_file_path = '/content/drive/MyDrive/Bakalauras/duomenys.csv'\n",
        "\n",
        "# Open the input CSV file\n",
        "with open(input_file_path, 'r') as input_file:\n",
        "    reader = csv.reader(input_file)\n",
        "\n",
        "    value_names = next(reader)\n",
        "\n",
        "    # Create an empty list to store the updated rows\n",
        "    updated_rows = []\n",
        "\n",
        "    # Loop through each row in the input file\n",
        "    for row in reader:\n",
        "         # Try to parse the date string as a datetime object\n",
        "        try:\n",
        "            date_str = row[0]\n",
        "            date_obj = datetime.strptime(date_str, '%d-%m-%Y')\n",
        "        except ValueError:\n",
        "            # If the date string is not in the expected format, skip this row\n",
        "            continue\n",
        "\n",
        "        # Format the date object as a string in the new format\n",
        "        new_date_str = date_obj.strftime('%Y-%m-%d')\n",
        "\n",
        "        # Update the date value in the row\n",
        "        row[0] = new_date_str\n",
        "        # Append the updated row to the list of updated rows\n",
        "        updated_rows.append(row)\n",
        "\n",
        "# Convert the list of updated rows to a dataframe\n",
        "df = pd.DataFrame(updated_rows, columns=value_names)"
      ],
      "metadata": {
        "id": "VL9mQ4ExYNEq"
      },
      "execution_count": null,
      "outputs": []
    },
    {
      "cell_type": "code",
      "source": [
        "# Convert the date column to a datetime object\n",
        "df['DT'] = pd.to_datetime(df['DT'], format='%Y-%m-%d')\n",
        "\n",
        "# Set the date column as the index of the dataframe\n",
        "df.set_index('DT', inplace=True)\n",
        "df['ANTAL_01'] = df['ANTAL_01'].astype(int)\n",
        "df = df.iloc[::-1]"
      ],
      "metadata": {
        "id": "ffgLniR9YPML"
      },
      "execution_count": null,
      "outputs": []
    },
    {
      "cell_type": "code",
      "source": [
        "from sklearn.preprocessing import StandardScaler\n",
        "from math import sqrt\n",
        "# prepare data for standardization\n",
        "values = df.values\n",
        "print(values)\n",
        "values = values.reshape((len(values), 1))\n",
        "# train the standardization\n",
        "scaler = StandardScaler()\n",
        "scaler = scaler.fit(values)\n",
        "print('Mean: %f, StandardDeviation: %f' % (scaler.mean_, sqrt(scaler.var_)))\n",
        "# standardization the dataset and print the first 5 rows\n",
        "normalized = scaler.transform(values)\n",
        "for i in range(5):\n",
        " print(normalized[i])\n",
        "# inverse transform and print the first 5 rows\n",
        "inversed = scaler.inverse_transform(normalized)\n",
        "for i in range(5):\n",
        " print(inversed[i])\n",
        "df['ANTAL_01'] = normalized\n",
        "print(df)"
      ],
      "metadata": {
        "colab": {
          "base_uri": "https://localhost:8080/"
        },
        "id": "-h0tlCwjYR3S",
        "outputId": "5c0b60f1-cb2d-491c-c962-17f925dd1058"
      },
      "execution_count": null,
      "outputs": [
        {
          "output_type": "stream",
          "name": "stdout",
          "text": [
            "[[46084]\n",
            " [46026]\n",
            " [46108]\n",
            " ...\n",
            " [30152]\n",
            " [30121]\n",
            " [30090]]\n",
            "Mean: 40906.524202, StandardDeviation: 4750.513865\n",
            "[1.089877]\n",
            "[1.07766779]\n",
            "[1.09492908]\n",
            "[1.07114218]\n",
            "[1.06251154]\n",
            "[46084.]\n",
            "[46026.]\n",
            "[46108.]\n",
            "[45995.]\n",
            "[45954.]\n",
            "            ANTAL_01\n",
            "DT                  \n",
            "2015-12-31  1.089877\n",
            "2016-01-04  1.077668\n",
            "2016-01-05  1.094929\n",
            "2016-01-06  1.071142\n",
            "2016-01-07  1.062512\n",
            "...              ...\n",
            "2022-12-15 -2.236921\n",
            "2022-12-16 -2.251025\n",
            "2022-12-19 -2.263865\n",
            "2022-12-20 -2.270391\n",
            "2022-12-21 -2.276917\n",
            "\n",
            "[1818 rows x 1 columns]\n"
          ]
        }
      ]
    },
    {
      "cell_type": "code",
      "source": [
        "#training and test\n",
        "training = df.iloc[:-16,:]\n",
        "test = df.iloc[-16:, :]"
      ],
      "metadata": {
        "id": "QS1QAfN0Yj8k"
      },
      "execution_count": null,
      "outputs": []
    },
    {
      "cell_type": "code",
      "source": [
        "#SARIMA model\n",
        "# Seasonal - fit stepwise auto-ARIMA\n",
        "smodel = auto_arima(training, start_p=1, start_q=1,\n",
        "                         test='adf',\n",
        "                         max_p=3, max_q=3, m=5,\n",
        "                         start_P=0, seasonal=True,\n",
        "                         d=None, D=1, trace=True,\n",
        "                         error_action='ignore',  \n",
        "                         suppress_warnings=True, \n",
        "                         stepwise=True)\n",
        "\n",
        "smodel.summary()"
      ],
      "metadata": {
        "colab": {
          "base_uri": "https://localhost:8080/",
          "height": 1000
        },
        "id": "9dDclYsUYrQ9",
        "outputId": "c7925e1b-074c-4ac4-ff8f-3e27963fc7bd"
      },
      "execution_count": null,
      "outputs": [
        {
          "output_type": "stream",
          "name": "stdout",
          "text": [
            "Performing stepwise search to minimize aic\n",
            " ARIMA(1,0,1)(0,1,1)[5] intercept   : AIC=inf, Time=9.05 sec\n",
            " ARIMA(0,0,0)(0,1,0)[5] intercept   : AIC=-7.048, Time=0.39 sec\n",
            " ARIMA(1,0,0)(1,1,0)[5] intercept   : AIC=-1920.456, Time=2.23 sec\n",
            " ARIMA(0,0,1)(0,1,1)[5] intercept   : AIC=-1322.423, Time=1.57 sec\n",
            " ARIMA(0,0,0)(0,1,0)[5]             : AIC=-6.667, Time=0.15 sec\n",
            " ARIMA(1,0,0)(0,1,0)[5] intercept   : AIC=-1473.042, Time=0.38 sec\n",
            " ARIMA(1,0,0)(2,1,0)[5] intercept   : AIC=-2083.066, Time=10.04 sec\n",
            " ARIMA(1,0,0)(2,1,1)[5] intercept   : AIC=inf, Time=9.16 sec\n",
            " ARIMA(1,0,0)(1,1,1)[5] intercept   : AIC=inf, Time=5.54 sec\n",
            " ARIMA(0,0,0)(2,1,0)[5] intercept   : AIC=-218.121, Time=1.65 sec\n",
            " ARIMA(2,0,0)(2,1,0)[5] intercept   : AIC=-2117.755, Time=8.04 sec\n",
            " ARIMA(2,0,0)(1,1,0)[5] intercept   : AIC=-1964.849, Time=3.59 sec\n",
            " ARIMA(2,0,0)(2,1,1)[5] intercept   : AIC=inf, Time=13.91 sec\n",
            " ARIMA(2,0,0)(1,1,1)[5] intercept   : AIC=inf, Time=6.45 sec\n",
            " ARIMA(3,0,0)(2,1,0)[5] intercept   : AIC=-2152.378, Time=11.75 sec\n",
            " ARIMA(3,0,0)(1,1,0)[5] intercept   : AIC=-2023.460, Time=4.63 sec\n",
            " ARIMA(3,0,0)(2,1,1)[5] intercept   : AIC=inf, Time=15.24 sec\n",
            " ARIMA(3,0,0)(1,1,1)[5] intercept   : AIC=inf, Time=12.05 sec\n",
            " ARIMA(3,0,1)(2,1,0)[5] intercept   : AIC=-2182.076, Time=14.40 sec\n",
            " ARIMA(3,0,1)(1,1,0)[5] intercept   : AIC=-2060.747, Time=7.22 sec\n",
            " ARIMA(3,0,1)(2,1,1)[5] intercept   : AIC=-2456.973, Time=17.04 sec\n",
            " ARIMA(3,0,1)(1,1,1)[5] intercept   : AIC=inf, Time=10.93 sec\n",
            " ARIMA(3,0,1)(2,1,2)[5] intercept   : AIC=inf, Time=17.79 sec\n",
            " ARIMA(3,0,1)(1,1,2)[5] intercept   : AIC=inf, Time=16.03 sec\n",
            " ARIMA(2,0,1)(2,1,1)[5] intercept   : AIC=inf, Time=15.02 sec\n",
            " ARIMA(3,0,2)(2,1,1)[5] intercept   : AIC=inf, Time=19.81 sec\n",
            " ARIMA(2,0,2)(2,1,1)[5] intercept   : AIC=inf, Time=15.36 sec\n",
            " ARIMA(3,0,1)(2,1,1)[5]             : AIC=inf, Time=6.78 sec\n",
            "\n",
            "Best model:  ARIMA(3,0,1)(2,1,1)[5] intercept\n",
            "Total fit time: 256.384 seconds\n"
          ]
        },
        {
          "output_type": "execute_result",
          "data": {
            "text/plain": [
              "<class 'statsmodels.iolib.summary.Summary'>\n",
              "\"\"\"\n",
              "                                     SARIMAX Results                                     \n",
              "=========================================================================================\n",
              "Dep. Variable:                                 y   No. Observations:                 1802\n",
              "Model:             SARIMAX(3, 0, 1)x(2, 1, 1, 5)   Log Likelihood                1237.487\n",
              "Date:                           Tue, 02 May 2023   AIC                          -2456.973\n",
              "Time:                                   18:41:33   BIC                          -2407.529\n",
              "Sample:                                        0   HQIC                         -2438.720\n",
              "                                          - 1802                                         \n",
              "Covariance Type:                             opg                                         \n",
              "==============================================================================\n",
              "                 coef    std err          z      P>|z|      [0.025      0.975]\n",
              "------------------------------------------------------------------------------\n",
              "intercept     -0.0010      0.000     -2.281      0.023      -0.002      -0.000\n",
              "ar.L1          0.3308      0.180      1.834      0.067      -0.023       0.684\n",
              "ar.L2          0.6273      0.133      4.710      0.000       0.366       0.888\n",
              "ar.L3         -0.1320      0.035     -3.737      0.000      -0.201      -0.063\n",
              "ma.L1          0.6198      0.182      3.411      0.001       0.264       0.976\n",
              "ar.S.L5        0.0961      0.036      2.693      0.007       0.026       0.166\n",
              "ar.S.L10       0.0845      0.025      3.375      0.001       0.035       0.134\n",
              "ma.S.L5       -0.9456      0.011    -86.589      0.000      -0.967      -0.924\n",
              "sigma2         0.0150      0.000     68.398      0.000       0.015       0.015\n",
              "===================================================================================\n",
              "Ljung-Box (L1) (Q):                   4.82   Jarque-Bera (JB):             87604.54\n",
              "Prob(Q):                              0.03   Prob(JB):                         0.00\n",
              "Heteroskedasticity (H):               0.96   Skew:                             3.51\n",
              "Prob(H) (two-sided):                  0.62   Kurtosis:                        36.48\n",
              "===================================================================================\n",
              "\n",
              "Warnings:\n",
              "[1] Covariance matrix calculated using the outer product of gradients (complex-step).\n",
              "\"\"\""
            ],
            "text/html": [
              "<table class=\"simpletable\">\n",
              "<caption>SARIMAX Results</caption>\n",
              "<tr>\n",
              "  <th>Dep. Variable:</th>                 <td>y</td>               <th>  No. Observations:  </th>   <td>1802</td>   \n",
              "</tr>\n",
              "<tr>\n",
              "  <th>Model:</th>           <td>SARIMAX(3, 0, 1)x(2, 1, 1, 5)</td> <th>  Log Likelihood     </th> <td>1237.487</td> \n",
              "</tr>\n",
              "<tr>\n",
              "  <th>Date:</th>                  <td>Tue, 02 May 2023</td>        <th>  AIC                </th> <td>-2456.973</td>\n",
              "</tr>\n",
              "<tr>\n",
              "  <th>Time:</th>                      <td>18:41:33</td>            <th>  BIC                </th> <td>-2407.529</td>\n",
              "</tr>\n",
              "<tr>\n",
              "  <th>Sample:</th>                        <td>0</td>               <th>  HQIC               </th> <td>-2438.720</td>\n",
              "</tr>\n",
              "<tr>\n",
              "  <th></th>                            <td> - 1802</td>            <th>                     </th>     <td> </td>    \n",
              "</tr>\n",
              "<tr>\n",
              "  <th>Covariance Type:</th>              <td>opg</td>              <th>                     </th>     <td> </td>    \n",
              "</tr>\n",
              "</table>\n",
              "<table class=\"simpletable\">\n",
              "<tr>\n",
              "      <td></td>         <th>coef</th>     <th>std err</th>      <th>z</th>      <th>P>|z|</th>  <th>[0.025</th>    <th>0.975]</th>  \n",
              "</tr>\n",
              "<tr>\n",
              "  <th>intercept</th> <td>   -0.0010</td> <td>    0.000</td> <td>   -2.281</td> <td> 0.023</td> <td>   -0.002</td> <td>   -0.000</td>\n",
              "</tr>\n",
              "<tr>\n",
              "  <th>ar.L1</th>     <td>    0.3308</td> <td>    0.180</td> <td>    1.834</td> <td> 0.067</td> <td>   -0.023</td> <td>    0.684</td>\n",
              "</tr>\n",
              "<tr>\n",
              "  <th>ar.L2</th>     <td>    0.6273</td> <td>    0.133</td> <td>    4.710</td> <td> 0.000</td> <td>    0.366</td> <td>    0.888</td>\n",
              "</tr>\n",
              "<tr>\n",
              "  <th>ar.L3</th>     <td>   -0.1320</td> <td>    0.035</td> <td>   -3.737</td> <td> 0.000</td> <td>   -0.201</td> <td>   -0.063</td>\n",
              "</tr>\n",
              "<tr>\n",
              "  <th>ma.L1</th>     <td>    0.6198</td> <td>    0.182</td> <td>    3.411</td> <td> 0.001</td> <td>    0.264</td> <td>    0.976</td>\n",
              "</tr>\n",
              "<tr>\n",
              "  <th>ar.S.L5</th>   <td>    0.0961</td> <td>    0.036</td> <td>    2.693</td> <td> 0.007</td> <td>    0.026</td> <td>    0.166</td>\n",
              "</tr>\n",
              "<tr>\n",
              "  <th>ar.S.L10</th>  <td>    0.0845</td> <td>    0.025</td> <td>    3.375</td> <td> 0.001</td> <td>    0.035</td> <td>    0.134</td>\n",
              "</tr>\n",
              "<tr>\n",
              "  <th>ma.S.L5</th>   <td>   -0.9456</td> <td>    0.011</td> <td>  -86.589</td> <td> 0.000</td> <td>   -0.967</td> <td>   -0.924</td>\n",
              "</tr>\n",
              "<tr>\n",
              "  <th>sigma2</th>    <td>    0.0150</td> <td>    0.000</td> <td>   68.398</td> <td> 0.000</td> <td>    0.015</td> <td>    0.015</td>\n",
              "</tr>\n",
              "</table>\n",
              "<table class=\"simpletable\">\n",
              "<tr>\n",
              "  <th>Ljung-Box (L1) (Q):</th>     <td>4.82</td> <th>  Jarque-Bera (JB):  </th> <td>87604.54</td>\n",
              "</tr>\n",
              "<tr>\n",
              "  <th>Prob(Q):</th>                <td>0.03</td> <th>  Prob(JB):          </th>   <td>0.00</td>  \n",
              "</tr>\n",
              "<tr>\n",
              "  <th>Heteroskedasticity (H):</th> <td>0.96</td> <th>  Skew:              </th>   <td>3.51</td>  \n",
              "</tr>\n",
              "<tr>\n",
              "  <th>Prob(H) (two-sided):</th>    <td>0.62</td> <th>  Kurtosis:          </th>   <td>36.48</td> \n",
              "</tr>\n",
              "</table><br/><br/>Warnings:<br/>[1] Covariance matrix calculated using the outer product of gradients (complex-step)."
            ]
          },
          "metadata": {},
          "execution_count": 8
        }
      ]
    },
    {
      "cell_type": "code",
      "source": [
        "import statsmodels.api as sm\n",
        "model = sm.tsa.statespace.SARIMAX(training, order=(2,0,2), seasonal_order=(1,1,1,5))\n",
        "model_fit = model.fit()\n",
        "yhat = model_fit.forecast()"
      ],
      "metadata": {
        "colab": {
          "base_uri": "https://localhost:8080/"
        },
        "id": "vIXu-nCIY4QO",
        "outputId": "bac25533-632d-4073-ed8b-74f79d5f2f4d"
      },
      "execution_count": null,
      "outputs": [
        {
          "output_type": "stream",
          "name": "stderr",
          "text": [
            "/usr/local/lib/python3.10/dist-packages/statsmodels/tsa/base/tsa_model.py:471: ValueWarning: A date index has been provided, but it has no associated frequency information and so will be ignored when e.g. forecasting.\n",
            "  self._init_dates(dates, freq)\n",
            "/usr/local/lib/python3.10/dist-packages/statsmodels/tsa/base/tsa_model.py:471: ValueWarning: A date index has been provided, but it has no associated frequency information and so will be ignored when e.g. forecasting.\n",
            "  self._init_dates(dates, freq)\n",
            "/usr/local/lib/python3.10/dist-packages/statsmodels/base/model.py:604: ConvergenceWarning: Maximum Likelihood optimization failed to converge. Check mle_retvals\n",
            "  warnings.warn(\"Maximum Likelihood optimization failed to \"\n",
            "/usr/local/lib/python3.10/dist-packages/statsmodels/tsa/base/tsa_model.py:834: ValueWarning: No supported index is available. Prediction results will be given with an integer index beginning at `start`.\n",
            "  return get_prediction_index(\n"
          ]
        }
      ]
    },
    {
      "cell_type": "code",
      "source": [
        "#predictions\n",
        "predictions = pd.Series(smodel.predict(n_periods = len(test)))\n",
        "predictions.index = test.index\n",
        "predictions[:5]"
      ],
      "metadata": {
        "colab": {
          "base_uri": "https://localhost:8080/"
        },
        "id": "ukjbTCHDZDm4",
        "outputId": "5df19d27-b356-4593-dc98-c658d958b83e"
      },
      "execution_count": null,
      "outputs": [
        {
          "output_type": "stream",
          "name": "stderr",
          "text": [
            "/usr/local/lib/python3.10/dist-packages/statsmodels/tsa/base/tsa_model.py:834: ValueWarning: No supported index is available. Prediction results will be given with an integer index beginning at `start`.\n",
            "  return get_prediction_index(\n"
          ]
        },
        {
          "output_type": "execute_result",
          "data": {
            "text/plain": [
              "DT\n",
              "2022-11-30   -2.073849\n",
              "2022-12-01   -2.062197\n",
              "2022-12-02   -2.013948\n",
              "2022-12-05   -1.991689\n",
              "2022-12-06   -1.963084\n",
              "dtype: float64"
            ]
          },
          "metadata": {},
          "execution_count": 9
        }
      ]
    },
    {
      "cell_type": "code",
      "source": [
        "#Visualization\n",
        "import matplotlib.pyplot as plt\n",
        "training['ANTAL_01']['2020-01-01':].plot(figsize=(12, 8), label='Training')\n",
        "test['ANTAL_01'].plot(label='Testing')\n",
        "predictions.plot(label='Predictions')\n",
        "plt.title('SARIMA modelio prognozės standartizuotiems duomenims')\n",
        "plt.legend()"
      ],
      "metadata": {
        "colab": {
          "base_uri": "https://localhost:8080/",
          "height": 690
        },
        "id": "hlbAb52fZFZm",
        "outputId": "c900acc1-77db-4c03-bb93-f09e290cf9ff"
      },
      "execution_count": null,
      "outputs": [
        {
          "output_type": "execute_result",
          "data": {
            "text/plain": [
              "<matplotlib.legend.Legend at 0x7fefdf6c3b80>"
            ]
          },
          "metadata": {},
          "execution_count": 10
        },
        {
          "output_type": "display_data",
          "data": {
            "text/plain": [
              "<Figure size 1200x800 with 1 Axes>"
            ],
            "image/png": "[encoded data removed]"
          },
          "metadata": {}
        }
      ]
    },
    {
      "cell_type": "code",
      "source": [
        "# inverse transform and print the first 5 rows\n",
        "normalized_predictions = predictions.values.reshape((len(predictions.values), 1))\n",
        "print(normalized_predictions)\n",
        "inversed = scaler.inverse_transform(normalized_predictions)\n",
        "print(inversed)"
      ],
      "metadata": {
        "colab": {
          "base_uri": "https://localhost:8080/"
        },
        "id": "VRAm-QbqZJwx",
        "outputId": "0cd715ba-05fb-47e2-f823-5f53f8bc37e4"
      },
      "execution_count": null,
      "outputs": [
        {
          "output_type": "stream",
          "name": "stdout",
          "text": [
            "[[-2.07384928]\n",
            " [-2.06219728]\n",
            " [-2.01394829]\n",
            " [-1.99168931]\n",
            " [-1.96308365]\n",
            " [-1.94011401]\n",
            " [-1.93562451]\n",
            " [-1.90387026]\n",
            " [-1.88769841]\n",
            " [-1.87035558]\n",
            " [-1.85352382]\n",
            " [-1.85882478]\n",
            " [-1.83274515]\n",
            " [-1.82346359]\n",
            " [-1.80823696]\n",
            " [-1.79899349]]\n",
            "[[31054.67442567]\n",
            " [31110.02745347]\n",
            " [31339.23493779]\n",
            " [31444.97650369]\n",
            " [31580.86812395]\n",
            " [31689.98571367]\n",
            " [31711.3131278 ]\n",
            " [31862.16211298]\n",
            " [31938.98674002]\n",
            " [32021.37406635]\n",
            " [32101.33358095]\n",
            " [32076.15132596]\n",
            " [32200.04296324]\n",
            " [32244.13513324]\n",
            " [32316.4694711 ]\n",
            " [32360.38068069]]\n"
          ]
        }
      ]
    }
  ]
}
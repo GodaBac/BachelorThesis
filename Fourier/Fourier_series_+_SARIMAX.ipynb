{
  "nbformat": 4,
  "nbformat_minor": 0,
  "metadata": {
    "colab": {
      "provenance": [],
      "authorship_tag": "ABX9TyO6YYeIFO8eNiwTnuCWpsB/",
      "include_colab_link": true
    },
    "kernelspec": {
      "name": "python3",
      "display_name": "Python 3"
    },
    "language_info": {
      "name": "python"
    }
  },
  "cells": [
    {
      "cell_type": "markdown",
      "metadata": {
        "id": "view-in-github",
        "colab_type": "text"
      },
      "source": [
        "<a href=\"https://colab.research.google.com/github/GodaBac/BachelorThesis/blob/main/Fourier/Fourier_series_%2B_SARIMAX.ipynb\" target=\"_parent\"><img src=\"https://colab.research.google.com/assets/colab-badge.svg\" alt=\"Open In Colab\"/></a>"
      ]
    },
    {
      "cell_type": "code",
      "execution_count": null,
      "metadata": {
        "id": "CM_WvxS2TH9t"
      },
      "outputs": [],
      "source": [
        "import pandas as pd\n",
        "import numpy as np\n",
        "import statsmodels.api as sm\n",
        "import matplotlib.pyplot as plt"
      ]
    },
    {
      "cell_type": "code",
      "source": [
        "from google.colab import drive\n",
        "drive.mount('/content/drive')"
      ],
      "metadata": {
        "colab": {
          "base_uri": "https://localhost:8080/"
        },
        "id": "QS7FSp_eTL3F",
        "outputId": "866282e6-3506-410f-8d6e-0855c013ab39"
      },
      "execution_count": null,
      "outputs": [
        {
          "output_type": "stream",
          "name": "stdout",
          "text": [
            "Mounted at /content/drive\n"
          ]
        }
      ]
    },
    {
      "cell_type": "code",
      "source": [
        "import csv\n",
        "from datetime import datetime\n",
        "\n",
        "input_file_path = '/content/drive/MyDrive/Bakalauras/duomenys.csv'\n",
        "\n",
        "# Open the input CSV file\n",
        "with open(input_file_path, 'r') as input_file:\n",
        "    reader = csv.reader(input_file)\n",
        "\n",
        "    value_names = next(reader)\n",
        "\n",
        "    # Create an empty list to store the updated rows\n",
        "    updated_rows = []\n",
        "\n",
        "    # Loop through each row in the input file\n",
        "    for row in reader:\n",
        "         # Try to parse the date string as a datetime object\n",
        "        try:\n",
        "            date_str = row[0]\n",
        "            date_obj = datetime.strptime(date_str, '%d-%m-%Y')\n",
        "        except ValueError:\n",
        "            # If the date string is not in the expected format, skip this row\n",
        "            continue\n",
        "\n",
        "        # Format the date object as a string in the new format\n",
        "        new_date_str = date_obj.strftime('%Y-%m-%d')\n",
        "\n",
        "        # Update the date value in the row\n",
        "        row[0] = new_date_str\n",
        "        # Append the updated row to the list of updated rows\n",
        "        updated_rows.append(row)\n",
        "\n",
        "# Convert the list of updated rows to a dataframe\n",
        "df = pd.DataFrame(updated_rows, columns=value_names)"
      ],
      "metadata": {
        "id": "N2g1h0YbTOID"
      },
      "execution_count": null,
      "outputs": []
    },
    {
      "cell_type": "code",
      "source": [
        "# Convert the date column to a datetime object\n",
        "df['DT'] = pd.to_datetime(df['DT'], format='%Y-%m-%d')\n",
        "\n",
        "# Set the date column as the index of the dataframe\n",
        "df.set_index('DT', inplace=True)\n",
        "df['ANTAL_01'] = df['ANTAL_01'].astype(int)\n",
        "df = df.iloc[::-1]"
      ],
      "metadata": {
        "id": "0wryJra9TQRA"
      },
      "execution_count": null,
      "outputs": []
    },
    {
      "cell_type": "code",
      "source": [
        "#training and test\n",
        "training = df.iloc[:-16,:]\n",
        "print(training.index)\n",
        "testing = df.iloc[-16:, :]\n",
        "training.head()"
      ],
      "metadata": {
        "colab": {
          "base_uri": "https://localhost:8080/",
          "height": 376
        },
        "id": "-zoJEILKUuK2",
        "outputId": "70089e93-b995-420d-88b9-36f45ebcb8d6"
      },
      "execution_count": null,
      "outputs": [
        {
          "output_type": "stream",
          "name": "stdout",
          "text": [
            "DatetimeIndex(['2015-12-31', '2016-01-04', '2016-01-05', '2016-01-06',\n",
            "               '2016-01-07', '2016-01-08', '2016-01-11', '2016-01-12',\n",
            "               '2016-01-13', '2016-01-14',\n",
            "               ...\n",
            "               '2022-11-16', '2022-11-17', '2022-11-18', '2022-11-21',\n",
            "               '2022-11-22', '2022-11-23', '2022-11-24', '2022-11-25',\n",
            "               '2022-11-28', '2022-11-29'],\n",
            "              dtype='datetime64[ns]', name='DT', length=1802, freq=None)\n"
          ]
        },
        {
          "output_type": "execute_result",
          "data": {
            "text/plain": [
              "            ANTAL_01\n",
              "DT                  \n",
              "2015-12-31     46084\n",
              "2016-01-04     46026\n",
              "2016-01-05     46108\n",
              "2016-01-06     45995\n",
              "2016-01-07     45954"
            ],
            "text/html": [
              "\n",
              "  <div id=\"df-ac8e40f7-06e0-4ae4-89bb-6e51b569a63a\">\n",
              "    <div class=\"colab-df-container\">\n",
              "      <div>\n",
              "<style scoped>\n",
              "    .dataframe tbody tr th:only-of-type {\n",
              "        vertical-align: middle;\n",
              "    }\n",
              "\n",
              "    .dataframe tbody tr th {\n",
              "        vertical-align: top;\n",
              "    }\n",
              "\n",
              "    .dataframe thead th {\n",
              "        text-align: right;\n",
              "    }\n",
              "</style>\n",
              "<table border=\"1\" class=\"dataframe\">\n",
              "  <thead>\n",
              "    <tr style=\"text-align: right;\">\n",
              "      <th></th>\n",
              "      <th>ANTAL_01</th>\n",
              "    </tr>\n",
              "    <tr>\n",
              "      <th>DT</th>\n",
              "      <th></th>\n",
              "    </tr>\n",
              "  </thead>\n",
              "  <tbody>\n",
              "    <tr>\n",
              "      <th>2015-12-31</th>\n",
              "      <td>46084</td>\n",
              "    </tr>\n",
              "    <tr>\n",
              "      <th>2016-01-04</th>\n",
              "      <td>46026</td>\n",
              "    </tr>\n",
              "    <tr>\n",
              "      <th>2016-01-05</th>\n",
              "      <td>46108</td>\n",
              "    </tr>\n",
              "    <tr>\n",
              "      <th>2016-01-06</th>\n",
              "      <td>45995</td>\n",
              "    </tr>\n",
              "    <tr>\n",
              "      <th>2016-01-07</th>\n",
              "      <td>45954</td>\n",
              "    </tr>\n",
              "  </tbody>\n",
              "</table>\n",
              "</div>\n",
              "      <button class=\"colab-df-convert\" onclick=\"convertToInteractive('df-ac8e40f7-06e0-4ae4-89bb-6e51b569a63a')\"\n",
              "              title=\"Convert this dataframe to an interactive table.\"\n",
              "              style=\"display:none;\">\n",
              "        \n",
              "  <svg xmlns=\"http://www.w3.org/2000/svg\" height=\"24px\"viewBox=\"0 0 24 24\"\n",
              "       width=\"24px\">\n",
              "    <path d=\"M0 0h24v24H0V0z\" fill=\"none\"/>\n",
              "    <path d=\"M18.56 5.44l.94 2.06.94-2.06 2.06-.94-2.06-.94-.94-2.06-.94 2.06-2.06.94zm-11 1L8.5 8.5l.94-2.06 2.06-.94-2.06-.94L8.5 2.5l-.94 2.06-2.06.94zm10 10l.94 2.06.94-2.06 2.06-.94-2.06-.94-.94-2.06-.94 2.06-2.06.94z\"/><path d=\"M17.41 7.96l-1.37-1.37c-.4-.4-.92-.59-1.43-.59-.52 0-1.04.2-1.43.59L10.3 9.45l-7.72 7.72c-.78.78-.78 2.05 0 2.83L4 21.41c.39.39.9.59 1.41.59.51 0 1.02-.2 1.41-.59l7.78-7.78 2.81-2.81c.8-.78.8-2.07 0-2.86zM5.41 20L4 18.59l7.72-7.72 1.47 1.35L5.41 20z\"/>\n",
              "  </svg>\n",
              "      </button>\n",
              "      \n",
              "  <style>\n",
              "    .colab-df-container {\n",
              "      display:flex;\n",
              "      flex-wrap:wrap;\n",
              "      gap: 12px;\n",
              "    }\n",
              "\n",
              "    .colab-df-convert {\n",
              "      background-color: #E8F0FE;\n",
              "      border: none;\n",
              "      border-radius: 50%;\n",
              "      cursor: pointer;\n",
              "      display: none;\n",
              "      fill: #1967D2;\n",
              "      height: 32px;\n",
              "      padding: 0 0 0 0;\n",
              "      width: 32px;\n",
              "    }\n",
              "\n",
              "    .colab-df-convert:hover {\n",
              "      background-color: #E2EBFA;\n",
              "      box-shadow: 0px 1px 2px rgba(60, 64, 67, 0.3), 0px 1px 3px 1px rgba(60, 64, 67, 0.15);\n",
              "      fill: #174EA6;\n",
              "    }\n",
              "\n",
              "    [theme=dark] .colab-df-convert {\n",
              "      background-color: #3B4455;\n",
              "      fill: #D2E3FC;\n",
              "    }\n",
              "\n",
              "    [theme=dark] .colab-df-convert:hover {\n",
              "      background-color: #434B5C;\n",
              "      box-shadow: 0px 1px 3px 1px rgba(0, 0, 0, 0.15);\n",
              "      filter: drop-shadow(0px 1px 2px rgba(0, 0, 0, 0.3));\n",
              "      fill: #FFFFFF;\n",
              "    }\n",
              "  </style>\n",
              "\n",
              "      <script>\n",
              "        const buttonEl =\n",
              "          document.querySelector('#df-ac8e40f7-06e0-4ae4-89bb-6e51b569a63a button.colab-df-convert');\n",
              "        buttonEl.style.display =\n",
              "          google.colab.kernel.accessAllowed ? 'block' : 'none';\n",
              "\n",
              "        async function convertToInteractive(key) {\n",
              "          const element = document.querySelector('#df-ac8e40f7-06e0-4ae4-89bb-6e51b569a63a');\n",
              "          const dataTable =\n",
              "            await google.colab.kernel.invokeFunction('convertToInteractive',\n",
              "                                                     [key], {});\n",
              "          if (!dataTable) return;\n",
              "\n",
              "          const docLinkHtml = 'Like what you see? Visit the ' +\n",
              "            '<a target=\"_blank\" href=https://colab.research.google.com/notebooks/data_table.ipynb>data table notebook</a>'\n",
              "            + ' to learn more about interactive tables.';\n",
              "          element.innerHTML = '';\n",
              "          dataTable['output_type'] = 'display_data';\n",
              "          await google.colab.output.renderOutput(dataTable, element);\n",
              "          const docLink = document.createElement('div');\n",
              "          docLink.innerHTML = docLinkHtml;\n",
              "          element.appendChild(docLink);\n",
              "        }\n",
              "      </script>\n",
              "    </div>\n",
              "  </div>\n",
              "  "
            ]
          },
          "metadata": {},
          "execution_count": 5
        }
      ]
    },
    {
      "cell_type": "code",
      "source": [
        "# Define number of Fourier terms to use\n",
        "n_terms = 3\n",
        "\n",
        "# Define the time period of the data (in this example, one year)\n",
        "period = 365"
      ],
      "metadata": {
        "id": "KK35ZFttT_Nx"
      },
      "execution_count": null,
      "outputs": []
    },
    {
      "cell_type": "code",
      "source": [
        "# Create Fourier series terms\n",
        "t = np.arange(len(training))\n",
        "fourier_terms = []\n",
        "for i in range(1, n_terms+1):\n",
        "    fourier_terms += [np.sin(2*np.pi*i*t/period), np.cos(2*np.pi*i*t/period)]"
      ],
      "metadata": {
        "id": "IMiRsva0UC6Y"
      },
      "execution_count": null,
      "outputs": []
    },
    {
      "cell_type": "code",
      "source": [
        "# Add Fourier series terms to data frame\n",
        "fourier_df = pd.DataFrame(np.array(fourier_terms).T, index=training.index, columns=[f'fourier_{i+1}' for i in range(2*n_terms)])\n",
        "training = pd.concat([training, fourier_df], axis=1)"
      ],
      "metadata": {
        "id": "_7vuYh2jUFoG"
      },
      "execution_count": null,
      "outputs": []
    },
    {
      "cell_type": "code",
      "source": [
        "len(training)"
      ],
      "metadata": {
        "colab": {
          "base_uri": "https://localhost:8080/"
        },
        "id": "ynD8VuG2UG30",
        "outputId": "b0f6f433-6b40-4c64-9881-a19685ee07c7"
      },
      "execution_count": null,
      "outputs": [
        {
          "output_type": "execute_result",
          "data": {
            "text/plain": [
              "1802"
            ]
          },
          "metadata": {},
          "execution_count": 51
        }
      ]
    },
    {
      "cell_type": "code",
      "source": [
        "# Specify exogenous variables for SARIMAX model\n",
        "exog_vars = ['fourier_{}'.format(i+1) for i in range(n_terms)]"
      ],
      "metadata": {
        "id": "yFELCsTHUZr3"
      },
      "execution_count": null,
      "outputs": []
    },
    {
      "cell_type": "code",
      "source": [
        "# Train SARIMAX model with exogenous variables\n",
        "model = sm.tsa.statespace.SARIMAX(training['ANTAL_01'], exog=training[exog_vars], order=(1,1,1), seasonal_order=(1,0,1,22))\n",
        "results = model.fit()"
      ],
      "metadata": {
        "colab": {
          "base_uri": "https://localhost:8080/"
        },
        "id": "Feuu3d2pUjfo",
        "outputId": "1a5c0ce9-4be7-4ed3-87f0-a0583e81b3e2"
      },
      "execution_count": null,
      "outputs": [
        {
          "output_type": "stream",
          "name": "stderr",
          "text": [
            "/usr/local/lib/python3.10/dist-packages/statsmodels/tsa/base/tsa_model.py:471: ValueWarning: A date index has been provided, but it has no associated frequency information and so will be ignored when e.g. forecasting.\n",
            "  self._init_dates(dates, freq)\n",
            "/usr/local/lib/python3.10/dist-packages/statsmodels/tsa/base/tsa_model.py:471: ValueWarning: A date index has been provided, but it has no associated frequency information and so will be ignored when e.g. forecasting.\n",
            "  self._init_dates(dates, freq)\n",
            "/usr/local/lib/python3.10/dist-packages/statsmodels/tsa/statespace/sarimax.py:966: UserWarning: Non-stationary starting autoregressive parameters found. Using zeros as starting parameters.\n",
            "  warn('Non-stationary starting autoregressive parameters'\n",
            "/usr/local/lib/python3.10/dist-packages/statsmodels/tsa/statespace/sarimax.py:978: UserWarning: Non-invertible starting MA parameters found. Using zeros as starting parameters.\n",
            "  warn('Non-invertible starting MA parameters found.'\n"
          ]
        }
      ]
    },
    {
      "cell_type": "code",
      "source": [
        "exogTest = training.tail(22)\n",
        "exogTest2 = exogTest.head(len(testing))\n",
        "exogTest2\n",
        "exogvar = np.asarray(exogTest2[exog_vars])\n",
        "exogvar = np.asarray(exogTest2[exog_vars])\n",
        "exogvar\n",
        "test_exog = pd.DataFrame(exogvar, index=testing.index)\n",
        "test_exog"
      ],
      "metadata": {
        "colab": {
          "base_uri": "https://localhost:8080/",
          "height": 582
        },
        "id": "OOm6Qxt4VSJB",
        "outputId": "c45412ee-d664-4d44-a81f-77d2808590a7"
      },
      "execution_count": null,
      "outputs": [
        {
          "output_type": "execute_result",
          "data": {
            "text/plain": [
              "                   0         1         2\n",
              "DT                                      \n",
              "2022-11-30 -0.699458  0.714673 -0.999769\n",
              "2022-12-01 -0.687053  0.726608 -0.998435\n",
              "2022-12-02 -0.674444  0.738326 -0.995919\n",
              "2022-12-05 -0.661635  0.749826 -0.992222\n",
              "2022-12-06 -0.648630  0.761104 -0.987349\n",
              "2022-12-07 -0.635432  0.772157 -0.981306\n",
              "2022-12-08 -0.622047  0.782980 -0.974100\n",
              "2022-12-09 -0.608477  0.793572 -0.965740\n",
              "2022-12-12 -0.594727  0.803928 -0.956235\n",
              "2022-12-13 -0.580800  0.814046 -0.945596\n",
              "2022-12-14 -0.566702  0.823923 -0.933837\n",
              "2022-12-15 -0.552435  0.833556 -0.920971\n",
              "2022-12-16 -0.538005  0.842942 -0.907014\n",
              "2022-12-19 -0.523416  0.852078 -0.891981\n",
              "2022-12-20 -0.508671  0.860961 -0.875892\n",
              "2022-12-21 -0.493776  0.869589 -0.858764"
            ],
            "text/html": [
              "\n",
              "  <div id=\"df-d192f982-0599-4c98-8b21-79eb15a01f78\">\n",
              "    <div class=\"colab-df-container\">\n",
              "      <div>\n",
              "<style scoped>\n",
              "    .dataframe tbody tr th:only-of-type {\n",
              "        vertical-align: middle;\n",
              "    }\n",
              "\n",
              "    .dataframe tbody tr th {\n",
              "        vertical-align: top;\n",
              "    }\n",
              "\n",
              "    .dataframe thead th {\n",
              "        text-align: right;\n",
              "    }\n",
              "</style>\n",
              "<table border=\"1\" class=\"dataframe\">\n",
              "  <thead>\n",
              "    <tr style=\"text-align: right;\">\n",
              "      <th></th>\n",
              "      <th>0</th>\n",
              "      <th>1</th>\n",
              "      <th>2</th>\n",
              "    </tr>\n",
              "    <tr>\n",
              "      <th>DT</th>\n",
              "      <th></th>\n",
              "      <th></th>\n",
              "      <th></th>\n",
              "    </tr>\n",
              "  </thead>\n",
              "  <tbody>\n",
              "    <tr>\n",
              "      <th>2022-11-30</th>\n",
              "      <td>-0.699458</td>\n",
              "      <td>0.714673</td>\n",
              "      <td>-0.999769</td>\n",
              "    </tr>\n",
              "    <tr>\n",
              "      <th>2022-12-01</th>\n",
              "      <td>-0.687053</td>\n",
              "      <td>0.726608</td>\n",
              "      <td>-0.998435</td>\n",
              "    </tr>\n",
              "    <tr>\n",
              "      <th>2022-12-02</th>\n",
              "      <td>-0.674444</td>\n",
              "      <td>0.738326</td>\n",
              "      <td>-0.995919</td>\n",
              "    </tr>\n",
              "    <tr>\n",
              "      <th>2022-12-05</th>\n",
              "      <td>-0.661635</td>\n",
              "      <td>0.749826</td>\n",
              "      <td>-0.992222</td>\n",
              "    </tr>\n",
              "    <tr>\n",
              "      <th>2022-12-06</th>\n",
              "      <td>-0.648630</td>\n",
              "      <td>0.761104</td>\n",
              "      <td>-0.987349</td>\n",
              "    </tr>\n",
              "    <tr>\n",
              "      <th>2022-12-07</th>\n",
              "      <td>-0.635432</td>\n",
              "      <td>0.772157</td>\n",
              "      <td>-0.981306</td>\n",
              "    </tr>\n",
              "    <tr>\n",
              "      <th>2022-12-08</th>\n",
              "      <td>-0.622047</td>\n",
              "      <td>0.782980</td>\n",
              "      <td>-0.974100</td>\n",
              "    </tr>\n",
              "    <tr>\n",
              "      <th>2022-12-09</th>\n",
              "      <td>-0.608477</td>\n",
              "      <td>0.793572</td>\n",
              "      <td>-0.965740</td>\n",
              "    </tr>\n",
              "    <tr>\n",
              "      <th>2022-12-12</th>\n",
              "      <td>-0.594727</td>\n",
              "      <td>0.803928</td>\n",
              "      <td>-0.956235</td>\n",
              "    </tr>\n",
              "    <tr>\n",
              "      <th>2022-12-13</th>\n",
              "      <td>-0.580800</td>\n",
              "      <td>0.814046</td>\n",
              "      <td>-0.945596</td>\n",
              "    </tr>\n",
              "    <tr>\n",
              "      <th>2022-12-14</th>\n",
              "      <td>-0.566702</td>\n",
              "      <td>0.823923</td>\n",
              "      <td>-0.933837</td>\n",
              "    </tr>\n",
              "    <tr>\n",
              "      <th>2022-12-15</th>\n",
              "      <td>-0.552435</td>\n",
              "      <td>0.833556</td>\n",
              "      <td>-0.920971</td>\n",
              "    </tr>\n",
              "    <tr>\n",
              "      <th>2022-12-16</th>\n",
              "      <td>-0.538005</td>\n",
              "      <td>0.842942</td>\n",
              "      <td>-0.907014</td>\n",
              "    </tr>\n",
              "    <tr>\n",
              "      <th>2022-12-19</th>\n",
              "      <td>-0.523416</td>\n",
              "      <td>0.852078</td>\n",
              "      <td>-0.891981</td>\n",
              "    </tr>\n",
              "    <tr>\n",
              "      <th>2022-12-20</th>\n",
              "      <td>-0.508671</td>\n",
              "      <td>0.860961</td>\n",
              "      <td>-0.875892</td>\n",
              "    </tr>\n",
              "    <tr>\n",
              "      <th>2022-12-21</th>\n",
              "      <td>-0.493776</td>\n",
              "      <td>0.869589</td>\n",
              "      <td>-0.858764</td>\n",
              "    </tr>\n",
              "  </tbody>\n",
              "</table>\n",
              "</div>\n",
              "      <button class=\"colab-df-convert\" onclick=\"convertToInteractive('df-d192f982-0599-4c98-8b21-79eb15a01f78')\"\n",
              "              title=\"Convert this dataframe to an interactive table.\"\n",
              "              style=\"display:none;\">\n",
              "        \n",
              "  <svg xmlns=\"http://www.w3.org/2000/svg\" height=\"24px\"viewBox=\"0 0 24 24\"\n",
              "       width=\"24px\">\n",
              "    <path d=\"M0 0h24v24H0V0z\" fill=\"none\"/>\n",
              "    <path d=\"M18.56 5.44l.94 2.06.94-2.06 2.06-.94-2.06-.94-.94-2.06-.94 2.06-2.06.94zm-11 1L8.5 8.5l.94-2.06 2.06-.94-2.06-.94L8.5 2.5l-.94 2.06-2.06.94zm10 10l.94 2.06.94-2.06 2.06-.94-2.06-.94-.94-2.06-.94 2.06-2.06.94z\"/><path d=\"M17.41 7.96l-1.37-1.37c-.4-.4-.92-.59-1.43-.59-.52 0-1.04.2-1.43.59L10.3 9.45l-7.72 7.72c-.78.78-.78 2.05 0 2.83L4 21.41c.39.39.9.59 1.41.59.51 0 1.02-.2 1.41-.59l7.78-7.78 2.81-2.81c.8-.78.8-2.07 0-2.86zM5.41 20L4 18.59l7.72-7.72 1.47 1.35L5.41 20z\"/>\n",
              "  </svg>\n",
              "      </button>\n",
              "      \n",
              "  <style>\n",
              "    .colab-df-container {\n",
              "      display:flex;\n",
              "      flex-wrap:wrap;\n",
              "      gap: 12px;\n",
              "    }\n",
              "\n",
              "    .colab-df-convert {\n",
              "      background-color: #E8F0FE;\n",
              "      border: none;\n",
              "      border-radius: 50%;\n",
              "      cursor: pointer;\n",
              "      display: none;\n",
              "      fill: #1967D2;\n",
              "      height: 32px;\n",
              "      padding: 0 0 0 0;\n",
              "      width: 32px;\n",
              "    }\n",
              "\n",
              "    .colab-df-convert:hover {\n",
              "      background-color: #E2EBFA;\n",
              "      box-shadow: 0px 1px 2px rgba(60, 64, 67, 0.3), 0px 1px 3px 1px rgba(60, 64, 67, 0.15);\n",
              "      fill: #174EA6;\n",
              "    }\n",
              "\n",
              "    [theme=dark] .colab-df-convert {\n",
              "      background-color: #3B4455;\n",
              "      fill: #D2E3FC;\n",
              "    }\n",
              "\n",
              "    [theme=dark] .colab-df-convert:hover {\n",
              "      background-color: #434B5C;\n",
              "      box-shadow: 0px 1px 3px 1px rgba(0, 0, 0, 0.15);\n",
              "      filter: drop-shadow(0px 1px 2px rgba(0, 0, 0, 0.3));\n",
              "      fill: #FFFFFF;\n",
              "    }\n",
              "  </style>\n",
              "\n",
              "      <script>\n",
              "        const buttonEl =\n",
              "          document.querySelector('#df-d192f982-0599-4c98-8b21-79eb15a01f78 button.colab-df-convert');\n",
              "        buttonEl.style.display =\n",
              "          google.colab.kernel.accessAllowed ? 'block' : 'none';\n",
              "\n",
              "        async function convertToInteractive(key) {\n",
              "          const element = document.querySelector('#df-d192f982-0599-4c98-8b21-79eb15a01f78');\n",
              "          const dataTable =\n",
              "            await google.colab.kernel.invokeFunction('convertToInteractive',\n",
              "                                                     [key], {});\n",
              "          if (!dataTable) return;\n",
              "\n",
              "          const docLinkHtml = 'Like what you see? Visit the ' +\n",
              "            '<a target=\"_blank\" href=https://colab.research.google.com/notebooks/data_table.ipynb>data table notebook</a>'\n",
              "            + ' to learn more about interactive tables.';\n",
              "          element.innerHTML = '';\n",
              "          dataTable['output_type'] = 'display_data';\n",
              "          await google.colab.output.renderOutput(dataTable, element);\n",
              "          const docLink = document.createElement('div');\n",
              "          docLink.innerHTML = docLinkHtml;\n",
              "          element.appendChild(docLink);\n",
              "        }\n",
              "      </script>\n",
              "    </div>\n",
              "  </div>\n",
              "  "
            ]
          },
          "metadata": {},
          "execution_count": 11
        }
      ]
    },
    {
      "cell_type": "code",
      "source": [
        "# predict using SARIMAX model\n",
        "pred = results.predict(start=len(training), end=len(training)+len(testing)-1, exog=test_exog)"
      ],
      "metadata": {
        "colab": {
          "base_uri": "https://localhost:8080/"
        },
        "id": "JtMkw7K6VKVW",
        "outputId": "2248e8f5-ff2e-4f92-a38b-68bda9d25d42"
      },
      "execution_count": null,
      "outputs": [
        {
          "output_type": "stream",
          "name": "stderr",
          "text": [
            "/usr/local/lib/python3.10/dist-packages/statsmodels/tsa/base/tsa_model.py:834: ValueWarning: No supported index is available. Prediction results will be given with an integer index beginning at `start`.\n",
            "  return get_prediction_index(\n"
          ]
        }
      ]
    },
    {
      "cell_type": "code",
      "source": [
        "pred, testing['ANTAL_01']"
      ],
      "metadata": {
        "colab": {
          "base_uri": "https://localhost:8080/"
        },
        "id": "4f0YSlGIV1V9",
        "outputId": "2ac1beb1-c6a0-44b7-f598-bc64da3ed44f"
      },
      "execution_count": null,
      "outputs": [
        {
          "output_type": "execute_result",
          "data": {
            "text/plain": [
              "(1802    31729.950125\n",
              " 1803    31939.936730\n",
              " 1804    31879.116795\n",
              " 1805    31652.682349\n",
              " 1806    31510.096204\n",
              " 1807    31474.803032\n",
              " 1808    31474.623943\n",
              " 1809    31436.198830\n",
              " 1810    31425.517370\n",
              " 1811    31407.486919\n",
              " 1812    31346.408986\n",
              " 1813    31347.919562\n",
              " 1814    31305.558541\n",
              " 1815    31281.241978\n",
              " 1816    31262.353991\n",
              " 1817    31223.724148\n",
              " Name: predicted_mean, dtype: float64,\n",
              " DT\n",
              " 2022-11-30    32207\n",
              " 2022-12-01    32524\n",
              " 2022-12-02    32418\n",
              " 2022-12-05    30902\n",
              " 2022-12-06    30743\n",
              " 2022-12-07    30590\n",
              " 2022-12-08    30455\n",
              " 2022-12-09    30444\n",
              " 2022-12-12    30339\n",
              " 2022-12-13    30277\n",
              " 2022-12-14    30179\n",
              " 2022-12-15    30280\n",
              " 2022-12-16    30213\n",
              " 2022-12-19    30152\n",
              " 2022-12-20    30121\n",
              " 2022-12-21    30090\n",
              " Name: ANTAL_01, dtype: int64)"
            ]
          },
          "metadata": {},
          "execution_count": 13
        }
      ]
    },
    {
      "cell_type": "code",
      "source": [
        "import matplotlib.pyplot as plt\n",
        "training['ANTAL_01'].astype(float)['2020-01-01':].plot(figsize=(12, 8), label='Training')\n",
        "testing['ANTAL_01'].astype(float).plot(label='Testing')\n",
        "pred.index = testing.index\n",
        "pred.plot(label='Predictions')\n",
        "plt.title('SARIMAX modelio su Furje eilutėmis prognozės pradiniams duomenims')\n",
        "plt.legend()"
      ],
      "metadata": {
        "colab": {
          "base_uri": "https://localhost:8080/",
          "height": 690
        },
        "id": "1mVI118ZWWY4",
        "outputId": "5d1693d2-e2dd-447b-8ca3-c1a5b21ee025"
      },
      "execution_count": null,
      "outputs": [
        {
          "output_type": "execute_result",
          "data": {
            "text/plain": [
              "<matplotlib.legend.Legend at 0x7f9d9f8e3640>"
            ]
          },
          "metadata": {},
          "execution_count": 14
        },
        {
          "output_type": "display_data",
          "data": {
            "text/plain": [
              "<Figure size 1200x800 with 1 Axes>"
            ],
            "image/png": "[encoded data removed]"
          },
          "metadata": {}
        }
      ]
    }
  ]
}